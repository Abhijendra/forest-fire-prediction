{
 "cells": [
  {
   "cell_type": "code",
   "execution_count": null,
   "id": "bcc1396c-3770-40f0-8cc5-22ed12469db0",
   "metadata": {},
   "outputs": [],
   "source": [
    "import ipyleaflet"
   ]
  },
  {
   "cell_type": "code",
   "execution_count": null,
   "id": "bfdc2d9d-de54-41ae-a8b2-818571b2b7cf",
   "metadata": {},
   "outputs": [],
   "source": [
    "m = ipyleaflet.Map(center=[40, -100], zoom=4)\n",
    "m"
   ]
  }
 ],
 "metadata": {
  "kernelspec": {
   "display_name": "Python 3",
   "language": "python",
   "name": "python3"
  },
  "language_info": {
   "codemirror_mode": {
    "name": "ipython",
    "version": 3
   },
   "file_extension": ".py",
   "mimetype": "text/x-python",
   "name": "python",
   "nbconvert_exporter": "python",
   "pygments_lexer": "ipython3",
   "version": "3.9.10"
  }
 },
 "nbformat": 4,
 "nbformat_minor": 5
}
