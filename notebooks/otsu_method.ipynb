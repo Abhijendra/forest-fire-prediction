{
 "cells": [
  {
   "cell_type": "code",
   "execution_count": 1,
   "metadata": {},
   "outputs": [],
   "source": [
    "import ee\n",
    "import geemap\n",
    "from bqplot import pyplot as plt\n",
    "from bqplot import Bars"
   ]
  },
  {
   "cell_type": "code",
   "execution_count": 2,
   "metadata": {},
   "outputs": [],
   "source": [
    "landsatMap = geemap.Map()"
   ]
  },
  {
   "cell_type": "markdown",
   "metadata": {},
   "source": [
    "# PREFIRE"
   ]
  },
  {
   "cell_type": "code",
   "execution_count": 3,
   "metadata": {},
   "outputs": [
    {
     "name": "stdout",
     "output_type": "stream",
     "text": [
      "2020-07-31\n"
     ]
    }
   ],
   "source": [
    "point = ee.Geometry.Point([-123.090,39.87])\n",
    "\n",
    "landsat_prefire_image = (\n",
    "    ee.ImageCollection('LANDSAT/LC08/C02/T1_L2')\n",
    "    .filterBounds(point)\n",
    "    .filterDate('2020-07-30', '2020-08-1')\n",
    "    .sort('CLOUD_COVER')\n",
    "    .first()\n",
    "    .select('SR_B[2-7]')\n",
    ")\n",
    "\n",
    "print(ee.Date(landsat_prefire_image.get('system:time_start')).format('YYYY-MM-dd').getInfo()) \n",
    "# landsat_prefire_image = landsat_prefire_image.select('SR_B.').multiply(0.0000275).add(-0.2)\n",
    "\n",
    "vis_params = {'min':0, 'max':20000, 'bands': ['SR_B7', 'SR_B5', 'SR_B4']} # swir2, nir, red\n",
    "\n",
    "landsatMap.centerObject(point, 9)\n",
    "landsatMap.addLayer(landsat_prefire_image, vis_params, \"Prefire\")\n",
    "# landsatMap\n",
    "\n",
    "prefire_nbr = landsat_prefire_image.expression(\n",
    "    '(NIR - SWIR) / (NIR + SWIR)', {\n",
    "        'NIR': landsat_prefire_image.select('SR_B5'),\n",
    "        'SWIR': landsat_prefire_image.select('SR_B7'),\n",
    "    })\n",
    "\n",
    "# Define a map centered on California\n",
    "# prefire_nbr_map = folium.Map(location=[40,-123], zoom_start=10)\n",
    "landsatMap.centerObject(point, 9)\n",
    "\n",
    "# Add the image layer to the map and display it.\n",
    "landsatMap.add_ee_layer(prefire_nbr, {\n",
    "    # 'min': -1,\n",
    "    # 'max': 1,\n",
    "    'palette': ['#d7191c', '#fdae61','#ffffbf', '#a6d96a','#1a9641']\n",
    "}, 'prefire_nbr_map')\n",
    "\n",
    "# landsatMap"
   ]
  },
  {
   "cell_type": "markdown",
   "metadata": {},
   "source": [
    "# POSTFIRE"
   ]
  },
  {
   "cell_type": "code",
   "execution_count": 4,
   "metadata": {},
   "outputs": [
    {
     "name": "stdout",
     "output_type": "stream",
     "text": [
      "2020-10-19\n"
     ]
    },
    {
     "data": {
      "application/vnd.jupyter.widget-view+json": {
       "model_id": "b69eba566e574be4aa88fbfc75ffaf85",
       "version_major": 2,
       "version_minor": 0
      },
      "text/plain": [
       "Map(center=[39.87, -123.09], controls=(WidgetControl(options=['position', 'transparent_bg'], widget=HBox(child…"
      ]
     },
     "metadata": {},
     "output_type": "display_data"
    }
   ],
   "source": [
    "point = ee.Geometry.Point([-123.090,39.87])\n",
    "\n",
    "landsat_postfire_image = (\n",
    "    ee.ImageCollection('LANDSAT/LC08/C02/T1_L2')\n",
    "    .filterBounds(point)\n",
    "    .filterDate('2020-10-18', '2020-10-20')\n",
    "    .sort('CLOUD_COVER')\n",
    "    .first()\n",
    "    .select('SR_B[2-7]')\n",
    ")\n",
    "\n",
    "print(ee.Date(landsat_postfire_image.get('system:time_start')).format('YYYY-MM-dd').getInfo()) \n",
    "# landsat_postfire_image = landsat_postfire_image.select('SR_B.').multiply(0.0000275).add(-0.2)\n",
    "\n",
    "vis_params = {'min':0, 'max':20000, 'bands': ['SR_B7', 'SR_B5', 'SR_B4']} # swir2, nir, red\n",
    "landsatMap.addLayer(landsat_postfire_image, vis_params, \"Postfire\")\n",
    "# landsatMap\n",
    "\n",
    "postfire_nbr = landsat_postfire_image.expression(\n",
    "    '(NIR - SWIR) / (NIR + SWIR)', {\n",
    "        'NIR': landsat_postfire_image.select('SR_B5'),\n",
    "        'SWIR': landsat_postfire_image.select('SR_B7'),\n",
    "    })\n",
    "\n",
    "# Define a map centered the california\n",
    "# postfire_nbr_map = folium.Map(location=[40,-123], zoom_start=10)\n",
    "landsatMap.centerObject(point, 9)\n",
    "\n",
    "# Add the image layer to the map and display it.\n",
    "landsatMap.add_ee_layer(postfire_nbr, {\n",
    "    # 'min': -1,\n",
    "    # 'max': 1,\n",
    "    'palette': ['#d7191c', '#fdae61','#ffffbf', '#a6d96a','#1a9641']\n",
    "}, 'postfire_nbr_map')\n",
    "\n",
    "landsatMap.addLayerControl()\n",
    "landsatMap"
   ]
  },
  {
   "cell_type": "markdown",
   "metadata": {},
   "source": [
    "# dNBR"
   ]
  },
  {
   "cell_type": "code",
   "execution_count": 5,
   "metadata": {},
   "outputs": [
    {
     "data": {
      "application/vnd.jupyter.widget-view+json": {
       "model_id": "b69eba566e574be4aa88fbfc75ffaf85",
       "version_major": 2,
       "version_minor": 0
      },
      "text/plain": [
       "Map(center=[39.87, -123.09], controls=(WidgetControl(options=['position', 'transparent_bg'], widget=HBox(child…"
      ]
     },
     "metadata": {},
     "output_type": "display_data"
    }
   ],
   "source": [
    "d_nbr = prefire_nbr.subtract(postfire_nbr)\n",
    "\n",
    "# Define a map \n",
    "landsatMap.add_ee_layer(d_nbr, {\n",
    "#     'min': -0.5 ,\n",
    "#     'max': 1.3,\n",
    "    'palette': ['#1a9641', '#a6d96a', '#ffffbf','#fdae61','#d7191c']\n",
    "}, 'd_nbr_map')\n",
    "\n",
    "\n",
    "landsatMap.addLayerControl()\n",
    "landsatMap"
   ]
  },
  {
   "cell_type": "code",
   "execution_count": 6,
   "metadata": {},
   "outputs": [],
   "source": [
    "d_nbr = d_nbr.rename('dNBR')"
   ]
  },
  {
   "cell_type": "code",
   "execution_count": 7,
   "metadata": {},
   "outputs": [
    {
     "data": {
      "text/plain": [
       "{'type': 'Image',\n",
       " 'bands': [{'id': 'dNBR',\n",
       "   'data_type': {'type': 'PixelType', 'precision': 'float'},\n",
       "   'dimensions': [7671, 7861],\n",
       "   'crs': 'EPSG:32610',\n",
       "   'crs_transform': [30, 0, 404985, 0, -30, 4582215]}]}"
      ]
     },
     "execution_count": 7,
     "metadata": {},
     "output_type": "execute_result"
    }
   ],
   "source": [
    "d_nbr.getInfo()"
   ]
  },
  {
   "cell_type": "code",
   "execution_count": 8,
   "metadata": {},
   "outputs": [],
   "source": [
    "# polygon = landsatMap.draw_features\n",
    "polygon = ee.Geometry(d_nbr.geometry())"
   ]
  },
  {
   "cell_type": "code",
   "execution_count": 9,
   "metadata": {},
   "outputs": [
    {
     "name": "stdout",
     "output_type": "stream",
     "text": [
      "{'dNBR': {'bucketMeans': [-0.6038221940140313, -0.5859375, -0.563979217611866, -0.5513996850435323, -0.5390625, -0.5190750273278282, -0.5078125, -0.4998285376781811, -0.47511290616042606, -0.46231451185131905, -0.44719210752032024, -0.43266145272550804, -0.41701625876650605, -0.39795327387988977, -0.38322073368343196, -0.36836007406234517, -0.35050530881239417, -0.3350906259005378, -0.3193376845993256, -0.30399326225914414, -0.2883221595133364, -0.2732445851741208, -0.25704223035151313, -0.24176000840536718, -0.22662621862170845, -0.21077348519018305, -0.1956177758534487, -0.1794694544252667, -0.1637194403844727, -0.148066116000071, -0.13261626750912905, -0.11682144194441811, -0.10126760351126902, -0.08499157496688398, -0.06903459828522379, -0.05312836435590477, -0.03665699059015586, -0.022090712638299904, -0.008111875396676193, 0.0073902415875556635, 0.023093922438153322, 0.038779909571383775, 0.05445899287535458, 0.07006309874702911, 0.0856995095404007, 0.10126640647345235, 0.11690105461644164, 0.13256440478740208, 0.14815131874564072, 0.16377564106620005, 0.17937363114922758, 0.1951190167413774, 0.21076217075979278, 0.22637499482875947, 0.2419646436984567, 0.2576611280464587, 0.2733999714351999, 0.2889944201992034, 0.30468700494873874, 0.3203164501966791, 0.33581542342445736, 0.35143346015651195, 0.36692632912566625, 0.38257556120172864, 0.39810051821967163, 0.4136927214384517, 0.429237113292288, 0.44487853315643006, 0.4604996988857683, 0.4761856890811292, 0.49166361266390995, 0.5075014758871156, 0.522592591021648, 0.5387053933979151, 0.5540678707390451, 0.5703320395386545, 0.5857273339019463, 0.6016244508656725, 0.6168075336865836, 0.6326967622141767, 0.6471793881383051, 0.6633709441410436, 0.6785696131644915, 0.6953815443236301, 0.7107671699894851, 0.7265625, 0.7421875, 0.7508964504672919], 'bucketMin': -0.609375, 'bucketWidth': 0.015625, 'histogram': [1, 0, 1, 1, 0, 1, 0, 1, 3, 12, 6, 10, 13, 20, 22, 24, 43, 40, 50, 88, 123, 154, 225, 340, 444, 601, 696, 784.0039215686274, 843.5019607843137, 1043.7529411764706, 1259, 1524.7607843137255, 1762.0039215686274, 2427.007843137255, 5867.250980392157, 17128.023529411763, 93901.62745098039, 460616.82352941175, 631489.8941176471, 459882.8784313725, 343247.1372549019, 269580.2980392157, 219428.9294117647, 183749.4745098039, 152315.19999999998, 124893.63137254899, 99882.60784313723, 79999.33333333331, 66269.06666666665, 53030.533333333326, 42635.29019607842, 34720.541176470586, 30164.521568627446, 26023.78431372549, 23010.77254901961, 19784.764705882357, 18659.50588235294, 17911.760784313723, 17081.011764705883, 16903.513725490197, 16404.50980392157, 14766.52156862745, 13143.760784313725, 11081.513725490197, 8803.01568627451, 7071.003921568627, 5376.2588235294115, 3925.7568627450983, 2782.5019607843137, 2009, 1358, 912, 681, 437, 309, 236, 214, 154, 139, 94, 63, 36, 16, 4, 2, 0, 0, 1]}}\n"
     ]
    }
   ],
   "source": [
    "# Compute the histogram of the NIR band.  The mean and variance are only FYI.\n",
    "histogram = d_nbr.reduceRegion(\n",
    "    **{\n",
    "        'reducer': ee.Reducer.histogram(1024, 0.015625),\n",
    "        'geometry': polygon,\n",
    "        'scale': 100,\n",
    "        'bestEffort': False,\n",
    "    }\n",
    ")\n",
    "hist_dict = histogram.getInfo()\n",
    "print(hist_dict)"
   ]
  },
  {
   "cell_type": "code",
   "execution_count": 10,
   "metadata": {},
   "outputs": [],
   "source": [
    "# def normalize_list(y):\n",
    "#     maxi = max(y)\n",
    "#     mini = min(y)\n",
    "#     for i in range(len(y)):\n",
    "#         y[i] = (y[i]-mini)/(maxi-mini)"
   ]
  },
  {
   "cell_type": "code",
   "execution_count": 11,
   "metadata": {},
   "outputs": [
    {
     "data": {
      "application/vnd.jupyter.widget-view+json": {
       "model_id": "6797fafdf69e45b7834dc85568ad1b01",
       "version_major": 2,
       "version_minor": 0
      },
      "text/plain": [
       "VBox(children=(Figure(axes=[Axis(scale=LinearScale()), Axis(orientation='vertical', scale=LinearScale())], fig…"
      ]
     },
     "metadata": {},
     "output_type": "display_data"
    }
   ],
   "source": [
    "x = hist_dict['dNBR']['bucketMeans']\n",
    "y = hist_dict['dNBR']['histogram']\n",
    "\n",
    "# normalize_list(y)\n",
    "\n",
    "plt.bar(x, y)\n",
    "plt.show()"
   ]
  },
  {
   "cell_type": "code",
   "execution_count": 12,
   "metadata": {},
   "outputs": [
    {
     "name": "stdout",
     "output_type": "stream",
     "text": [
      "threshold 0.11690105461644164\n"
     ]
    }
   ],
   "source": [
    "# Return the DN that maximizes interclass variance in B5 (in the region).\n",
    "def otsu(histogram):\n",
    "    counts = ee.Array(ee.Dictionary(histogram).get('histogram'))\n",
    "    means = ee.Array(ee.Dictionary(histogram).get('bucketMeans'))\n",
    "    size = means.length().get([0])\n",
    "    total = counts.reduce(ee.Reducer.sum(), [0]).get([0])\n",
    "    sum = means.multiply(counts).reduce(ee.Reducer.sum(), [0]).get([0])\n",
    "    mean = sum.divide(total)\n",
    "\n",
    "    indices = ee.List.sequence(1, size)\n",
    "\n",
    "    # Compute between sum of squares, where each mean partitions the data.\n",
    "\n",
    "    def func_xxx(i):\n",
    "        aCounts = counts.slice(0, 0, i)\n",
    "        aCount = aCounts.reduce(ee.Reducer.sum(), [0]).get([0])\n",
    "        aMeans = means.slice(0, 0, i)\n",
    "        aMean = (\n",
    "            aMeans.multiply(aCounts)\n",
    "            .reduce(ee.Reducer.sum(), [0])\n",
    "            .get([0])\n",
    "            .divide(aCount)\n",
    "        )\n",
    "        bCount = total.subtract(aCount)\n",
    "        bMean = sum.subtract(aCount.multiply(aMean)).divide(bCount)\n",
    "        return aCount.multiply(aMean.subtract(mean).pow(2)).add(\n",
    "            bCount.multiply(bMean.subtract(mean).pow(2))\n",
    "        )\n",
    "\n",
    "    bss = indices.map(func_xxx)\n",
    "\n",
    "    # Return the mean value corresponding to the maximum BSS.\n",
    "    return means.sort(bss).get([-1])\n",
    "\n",
    "\n",
    "threshold = otsu(histogram.get('dNBR'))\n",
    "print('threshold', threshold.getInfo())"
   ]
  },
  {
   "cell_type": "code",
   "execution_count": 13,
   "metadata": {
    "scrolled": false
   },
   "outputs": [
    {
     "data": {
      "application/vnd.jupyter.widget-view+json": {
       "model_id": "b69eba566e574be4aa88fbfc75ffaf85",
       "version_major": 2,
       "version_minor": 0
      },
      "text/plain": [
       "Map(center=[39.87, -123.09], controls=(WidgetControl(options=['position', 'transparent_bg'], widget=HBox(child…"
      ]
     },
     "metadata": {},
     "output_type": "display_data"
    }
   ],
   "source": [
    "classA = d_nbr.gt(threshold) # lt is less_than, gt is greater_than\n",
    "landsatMap.addLayer(classA.mask(classA), {'palette': 'orange'}, 'fire')\n",
    "landsatMap"
   ]
  },
  {
   "cell_type": "code",
   "execution_count": 14,
   "metadata": {},
   "outputs": [],
   "source": [
    "# def extract_water(image):\n",
    "#     histogram = image.select('N').reduceRegion(\n",
    "#         **{\n",
    "#             'reducer': ee.Reducer.histogram(255, 2),\n",
    "#             'geometry': polygon,\n",
    "#             'scale': 10,\n",
    "#             'bestEffort': True,\n",
    "#         }\n",
    "#     )\n",
    "#     threshold = otsu(histogram.get('N'))\n",
    "#     water = image.select('N').lt(threshold).selfMask()\n",
    "#     return water.set({\"threshold\": threshold})"
   ]
  },
  {
   "cell_type": "code",
   "execution_count": 15,
   "metadata": {},
   "outputs": [],
   "source": [
    "# water_images = collection.map(extract_water)"
   ]
  },
  {
   "cell_type": "code",
   "execution_count": 16,
   "metadata": {},
   "outputs": [],
   "source": [
    "# Map.addLayer(water_images.first(), {\"palette\": \"blue\"}, \"first water\")"
   ]
  },
  {
   "cell_type": "code",
   "execution_count": 17,
   "metadata": {},
   "outputs": [],
   "source": [
    "# water_images.aggregate_array(\"threshold\").getInfo()"
   ]
  },
  {
   "cell_type": "code",
   "execution_count": 18,
   "metadata": {},
   "outputs": [],
   "source": [
    "# Map"
   ]
  },
  {
   "cell_type": "code",
   "execution_count": null,
   "metadata": {},
   "outputs": [],
   "source": []
  }
 ],
 "metadata": {
  "hide_input": false,
  "kernelspec": {
   "display_name": "Python 3 (ipykernel)",
   "language": "python",
   "name": "python3"
  },
  "language_info": {
   "codemirror_mode": {
    "name": "ipython",
    "version": 3
   },
   "file_extension": ".py",
   "mimetype": "text/x-python",
   "name": "python",
   "nbconvert_exporter": "python",
   "pygments_lexer": "ipython3",
   "version": "3.8.13"
  },
  "toc": {
   "base_numbering": 1,
   "nav_menu": {},
   "number_sections": true,
   "sideBar": true,
   "skip_h1_title": false,
   "title_cell": "Table of Contents",
   "title_sidebar": "Contents",
   "toc_cell": false,
   "toc_position": {},
   "toc_section_display": true,
   "toc_window_display": false
  },
  "varInspector": {
   "cols": {
    "lenName": 16,
    "lenType": 16,
    "lenVar": 40
   },
   "kernels_config": {
    "python": {
     "delete_cmd_postfix": "",
     "delete_cmd_prefix": "del ",
     "library": "var_list.py",
     "varRefreshCmd": "print(var_dic_list())"
    },
    "r": {
     "delete_cmd_postfix": ") ",
     "delete_cmd_prefix": "rm(",
     "library": "var_list.r",
     "varRefreshCmd": "cat(var_dic_list()) "
    }
   },
   "types_to_exclude": [
    "module",
    "function",
    "builtin_function_or_method",
    "instance",
    "_Feature"
   ],
   "window_display": false
  }
 },
 "nbformat": 4,
 "nbformat_minor": 4
}
