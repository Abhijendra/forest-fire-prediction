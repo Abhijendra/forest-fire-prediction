{
 "cells": [
  {
   "cell_type": "markdown",
   "metadata": {
    "id": "xJWU6NhSjefT"
   },
   "source": [
    "# v2.0\n",
    "### This version 2.0 uses dNBR map and otsu's thresholded map as input to SVM\n"
   ]
  },
  {
   "cell_type": "code",
   "execution_count": 21,
   "metadata": {
    "executionInfo": {
     "elapsed": 4431,
     "status": "ok",
     "timestamp": 1665735347805,
     "user": {
      "displayName": "A. Anand",
      "userId": "11954490017722802143"
     },
     "user_tz": -330
    },
    "id": "6r2ZP7xWaF74"
   },
   "outputs": [],
   "source": [
    "import geemap\n",
    "import ee"
   ]
  },
  {
   "cell_type": "code",
   "execution_count": 22,
   "metadata": {
    "executionInfo": {
     "elapsed": 1993,
     "status": "ok",
     "timestamp": 1665735411789,
     "user": {
      "displayName": "A. Anand",
      "userId": "11954490017722802143"
     },
     "user_tz": -330
    },
    "id": "Hu17hCuyaNLO"
   },
   "outputs": [],
   "source": [
    "ee.Initialize()"
   ]
  },
  {
   "cell_type": "code",
   "execution_count": 23,
   "metadata": {
    "executionInfo": {
     "elapsed": 1920,
     "status": "ok",
     "timestamp": 1665735417884,
     "user": {
      "displayName": "A. Anand",
      "userId": "11954490017722802143"
     },
     "user_tz": -330
    },
    "id": "HazqS10HaPDd"
   },
   "outputs": [],
   "source": [
    "landsatMap = geemap.Map()"
   ]
  },
  {
   "cell_type": "code",
   "execution_count": 24,
   "metadata": {
    "executionInfo": {
     "elapsed": 8,
     "status": "ok",
     "timestamp": 1665735419422,
     "user": {
      "displayName": "A. Anand",
      "userId": "11954490017722802143"
     },
     "user_tz": -330
    },
    "id": "LE4L7DSraWih"
   },
   "outputs": [],
   "source": [
    "import folium\n",
    "\n",
    "# Define a method for displaying Earth Engine image tiles to folium map.\n",
    "def add_ee_layer(self, ee_image_object, vis_params, name):\n",
    "    map_id_dict = ee.Image(ee_image_object).getMapId(vis_params)\n",
    "    folium.raster_layers.TileLayer(\n",
    "      tiles=map_id_dict['tile_fetcher'].url_format,\n",
    "      attr='Map Data &copy; <a href=\"https://earthengine.google.com/\">Google Earth Engine</a>',\n",
    "      name=name,\n",
    "      overlay=True,\n",
    "      control=True\n",
    "    ).add_to(self)\n",
    "\n",
    "folium.Map.add_ee_layer = add_ee_layer"
   ]
  },
  {
   "cell_type": "markdown",
   "metadata": {},
   "source": [
    "## PREFIRE"
   ]
  },
  {
   "cell_type": "code",
   "execution_count": 25,
   "metadata": {},
   "outputs": [
    {
     "name": "stdout",
     "output_type": "stream",
     "text": [
      "2020-07-31\n"
     ]
    }
   ],
   "source": [
    "point = ee.Geometry.Point([-122.8, 39.87])\n",
    "\n",
    "landsat_prefire_image = (\n",
    "    ee.ImageCollection('LANDSAT/LC08/C02/T1_L2')\n",
    "    .filterBounds(point)\n",
    "    .filterDate('2020-07-30', '2020-08-1')\n",
    "    .sort('CLOUD_COVER')\n",
    "    .first()\n",
    "    .select('SR_B[2-7]')\n",
    ")\n",
    "\n",
    "print(ee.Date(landsat_prefire_image.get('system:time_start')).format('YYYY-MM-dd').getInfo()) \n",
    "landsat_prefire_image = landsat_prefire_image.select('SR_B.').multiply(0.0000275).add(-0.2)\n",
    "\n",
    "vis_params = {'min':0, 'max':0.4, 'bands': ['SR_B7', 'SR_B5', 'SR_B4']} # swir2, nir, red\n",
    "\n",
    "landsatMap.centerObject(point, 9)\n",
    "landsatMap.addLayer(landsat_prefire_image, vis_params, \"Prefire\")\n",
    "# landsatMap"
   ]
  },
  {
   "cell_type": "markdown",
   "metadata": {},
   "source": [
    "### Calculating Prefire NBR"
   ]
  },
  {
   "cell_type": "code",
   "execution_count": 26,
   "metadata": {},
   "outputs": [],
   "source": [
    "prefire_nbr = landsat_prefire_image.expression(\n",
    "    '(NIR - SWIR) / (NIR + SWIR)', {\n",
    "        'NIR': landsat_prefire_image.select('SR_B5'),\n",
    "        'SWIR': landsat_prefire_image.select('SR_B7'),\n",
    "    })\n",
    "\n",
    "# Add the image layer to the map and display it.\n",
    "landsatMap.add_ee_layer(prefire_nbr, {\n",
    "    # 'min': -1,\n",
    "    # 'max': 1,\n",
    "    'palette': ['#d7191c', '#fdae61','#ffffbf', '#a6d96a','#1a9641']\n",
    "}, 'prefire_nbr_map')\n",
    "\n",
    "# landsatMap"
   ]
  },
  {
   "cell_type": "markdown",
   "metadata": {
    "id": "tUXKFXAvkEHp"
   },
   "source": [
    "## Postfire"
   ]
  },
  {
   "cell_type": "code",
   "execution_count": 27,
   "metadata": {
    "colab": {
     "base_uri": "https://localhost:8080/",
     "height": 54
    },
    "executionInfo": {
     "elapsed": 850,
     "status": "ok",
     "timestamp": 1665736415824,
     "user": {
      "displayName": "A. Anand",
      "userId": "11954490017722802143"
     },
     "user_tz": -330
    },
    "id": "JvpcXE6Dgymz",
    "outputId": "0508145f-b338-4777-f0d3-9efe9cd385be"
   },
   "outputs": [
    {
     "name": "stdout",
     "output_type": "stream",
     "text": [
      "['SR_B2', 'SR_B3', 'SR_B4', 'SR_B5', 'SR_B6', 'SR_B7']\n",
      "2020-10-19\n"
     ]
    }
   ],
   "source": [
    "point = ee.Geometry.Point([-122.8, 39.87])\n",
    "\n",
    "# obtaining postfire image of landsat\n",
    "landsat_postfire_image = (\n",
    "    ee.ImageCollection('LANDSAT/LC08/C02/T1_L2')\n",
    "    .filterBounds(point)\n",
    "    .filterDate('2020-10-18', '2020-10-21')\n",
    "    .sort('CLOUD_COVER')\n",
    "    .first()\n",
    "    .select('SR_B[2-7]')\n",
    ")\n",
    "# printing the bands present in the iamge\n",
    "print(landsat_postfire_image.bandNames().getInfo())\n",
    "# printing date of image\n",
    "print(ee.Date(landsat_postfire_image.get('system:time_start')).format('YYYY-MM-dd').getInfo()) \n",
    "# converting DN into radiance\n",
    "landsat_postfire_image = landsat_postfire_image.select('SR_B.').multiply(0.0000275).add(-0.2)\n",
    "\n",
    "vis_params = {'min':0, 'max':0.4, 'bands': ['SR_B7', 'SR_B5', 'SR_B4']} # swir2, nir, red\n",
    "\n",
    "landsatMap.centerObject(point, 9)\n",
    "landsatMap.addLayer(landsat_postfire_image, vis_params, \"Postfire\")\n",
    "\n",
    "# display the map\n",
    "# landsatMap.addLayerControl()\n",
    "# landsatMap"
   ]
  },
  {
   "cell_type": "markdown",
   "metadata": {
    "id": "xygemXKuorYK"
   },
   "source": [
    "### calculating Postfire NBR"
   ]
  },
  {
   "cell_type": "code",
   "execution_count": 28,
   "metadata": {
    "id": "qWtqGGfIm-uK",
    "scrolled": false
   },
   "outputs": [
    {
     "data": {
      "application/vnd.jupyter.widget-view+json": {
       "model_id": "a5746ce4110e490094ea4c9dfe8d7c83",
       "version_major": 2,
       "version_minor": 0
      },
      "text/plain": [
       "Map(center=[39.87, -122.8], controls=(WidgetControl(options=['position', 'transparent_bg'], widget=HBox(childr…"
      ]
     },
     "metadata": {},
     "output_type": "display_data"
    }
   ],
   "source": [
    "postfire_nbr = landsat_postfire_image.expression(\n",
    "    '(NIR - SWIR) / (NIR + SWIR)', {\n",
    "        'NIR': landsat_postfire_image.select('SR_B5'),\n",
    "        'SWIR': landsat_postfire_image.select('SR_B7'),\n",
    "    })\n",
    "\n",
    "# Define a map centered the california\n",
    "# postfire_nbr_map = folium.Map(location=[40,-123], zoom_start=10)\n",
    "landsatMap.centerObject(point, 9)\n",
    "\n",
    "# Add the image layer to the map and display it.\n",
    "landsatMap.add_ee_layer(postfire_nbr, {\n",
    "    # 'min': -1,\n",
    "    # 'max': 1,\n",
    "    'palette': ['#d7191c', '#fdae61','#ffffbf', '#a6d96a','#1a9641']\n",
    "}, 'postfire_nbr_map')\n",
    "\n",
    "landsatMap.addLayerControl()\n",
    "landsatMap"
   ]
  },
  {
   "cell_type": "markdown",
   "metadata": {},
   "source": [
    "## d_NBR"
   ]
  },
  {
   "cell_type": "code",
   "execution_count": 29,
   "metadata": {},
   "outputs": [
    {
     "data": {
      "application/vnd.jupyter.widget-view+json": {
       "model_id": "a5746ce4110e490094ea4c9dfe8d7c83",
       "version_major": 2,
       "version_minor": 0
      },
      "text/plain": [
       "Map(center=[39.87, -122.8], controls=(WidgetControl(options=['position', 'transparent_bg'], widget=HBox(childr…"
      ]
     },
     "metadata": {},
     "output_type": "display_data"
    }
   ],
   "source": [
    "d_nbr = prefire_nbr.subtract(postfire_nbr)\n",
    "\n",
    "# Define a map \n",
    "landsatMap.add_ee_layer(d_nbr, \n",
    "    {\n",
    "#     'min': -0.5,\n",
    "#     'max': 1.3,\n",
    "#     'palette': ['#1a9641', '#a6d96a', '#ffffbf','#fdae61','#d7191c']\n",
    "                        },\n",
    "    'd_nbr_map')\n",
    "\n",
    "landsatMap.addLayerControl()\n",
    "landsatMap"
   ]
  },
  {
   "cell_type": "code",
   "execution_count": 20,
   "metadata": {},
   "outputs": [],
   "source": [
    "# legend_dict = {\n",
    "#     'very high': 'd7191c',\n",
    "#     'high': 'fdae61',\n",
    "#     'medium': 'ffffbf',\n",
    "#     'low': 'a6d96a',\n",
    "#     'very low': '1a9641',\n",
    "# }\n",
    "\n",
    "# landsatMap.add_legend(legend_title=\"NBR\", legend_dict=legend_dict)"
   ]
  },
  {
   "cell_type": "markdown",
   "metadata": {
    "id": "CHCB_bmokxKs"
   },
   "source": [
    "## Adding dNBR map to the bands of Landsat-8 Postfire"
   ]
  },
  {
   "cell_type": "code",
   "execution_count": 31,
   "metadata": {
    "colab": {
     "base_uri": "https://localhost:8080/"
    },
    "executionInfo": {
     "elapsed": 681,
     "status": "ok",
     "timestamp": 1665736423698,
     "user": {
      "displayName": "A. Anand",
      "userId": "11954490017722802143"
     },
     "user_tz": -330
    },
    "id": "jCebVoztkwAC",
    "outputId": "c7e38f97-91f1-47a5-fedf-fda10b32607d"
   },
   "outputs": [
    {
     "name": "stdout",
     "output_type": "stream",
     "text": [
      "['SR_B2', 'SR_B3', 'SR_B4', 'SR_B5', 'SR_B6', 'SR_B7', 'dNBR']\n"
     ]
    }
   ],
   "source": [
    "d_nbr = d_nbr.rename('dNBR')\n",
    "landsat_postfire_image = landsat_postfire_image.addBands(d_nbr)\n",
    "print(landsat_postfire_image.bandNames().getInfo())"
   ]
  },
  {
   "cell_type": "code",
   "execution_count": 32,
   "metadata": {
    "colab": {
     "base_uri": "https://localhost:8080/",
     "height": 621,
     "referenced_widgets": [
      "0ae0b0c6fc5144ba9dc3ac1d6df2a480",
      "a31f4f833bd8457f9559a38cee02ece2",
      "9832d0cda00146f784811503667d9f6d",
      "2cecb44f2b4840b8a012b3989397bfad",
      "3d53069a8b424385b0f6fb8d1779ff8a",
      "15496c7bb19c49f3ae1f2cc35073a3ea",
      "08094a91886e4229a14fddd03224c3bc",
      "e073295f879442fcbb1ec0ec18ea3adb",
      "efb5c13ce7a546b3a8de0fa82b4e2856",
      "9c0402f8ec1647f996351dc06310a23c",
      "69e7f334cd7e415bb824f05f9af44e0e",
      "34cbc628077a421ba5d3e8208a122e8f",
      "5e11b57f8bea4066b94cc74a5bb0e414",
      "5b7f6805400c4fc5ad4e4be7a00d69d1",
      "73987207ba8843c7812125cabe577c30",
      "ecd3e247c81e4279b5d639ae33078bf1",
      "f5d35cc27b214beb92a3be3440a0a348",
      "4e53a823c20340b39aaaf86577c72ffd",
      "bfe7b4c5ff734cab940e48bbad3e9b0d",
      "1b39cf7e0bd04c41bd1552bcafab8e99",
      "cc819c4d513c464b9e7509504932be7f",
      "076543847e94461fb891a2a761057068",
      "57b4a9eb9e1a45f5878331251e133069",
      "95bf85b767b44cbdad41a3fb0858f63b",
      "729fc2c1628f41fb9c66d53782f7b186",
      "50368147fb4a4bb8a6c534356d666f9a",
      "2385ed8562194a04a590eacb655fd4c0",
      "9b74aa6639944c0e9ab6dc20afb38329",
      "ada570fd1d13408495f33c622f327106",
      "d51aa31aa35b42b4aac727911084f495",
      "befe273fbaaf4753a75fdffd8eb50f3a",
      "82441b8b69d44263bb6c25109b2f1c75",
      "4d96c0cc37a1488c8c767eb451b03e94",
      "11a6483deefd4eebbf808245c8bd5d02",
      "35dd66d2ee164a7b9552f2a614a80542",
      "4cf2b72148bb46b5ba42403d4b4e5e2f",
      "53dc1a285f804f5caa982de64d795708",
      "33a467b921b04004be24fa9ea3386c85",
      "9fce1364a90e4257bd1eaac0f7d2fd34",
      "dc170b7aff44459eac0c11bb45d5d7d3",
      "1869a58517ec44c08ff547c7ebc431e5",
      "af76053422f44e1ebd320f493068c3d2",
      "952e424aa1d84e2daeafe1368181dda6",
      "8f61f74d59e64a56ad59eb4d37991ad1",
      "a58eff86aee740c7b0c319b07fc40ce1",
      "f5b55253837f406694be2d41035db761",
      "fc5d4dd9987c420b9560f060466354d2",
      "b02e53b5aab54dfb80587ba1148c2708",
      "780b2858931c4636bafe45ceeed723e4",
      "d5321594677446b597a88dfb8ee653c7",
      "6c38f414be324a07a241cd20940c2bdf",
      "d2425128a3904e7983f91acb4933c403",
      "4d367f6e28694a51b9c831e1b09c511a",
      "03853c963a164d248b7cb5ca016433f2",
      "2320cae0e48f4f67a9c434d1b1ba150c",
      "8b6c4a5c08a2467ab01a41813a9daf35",
      "2a66371dd09e4ffcaca2d2e7db73a272",
      "57b04c9c6480484396d83f1934a12e00",
      "f6a54a6f7ce1432abe985ccdca5d0774",
      "502f902a69ae49b389643cb8812e6395",
      "ac7677d76c264c049f4f55e714eed327"
     ]
    },
    "executionInfo": {
     "elapsed": 836,
     "status": "ok",
     "timestamp": 1665736524248,
     "user": {
      "displayName": "A. Anand",
      "userId": "11954490017722802143"
     },
     "user_tz": -330
    },
    "id": "KVxILVKAaV01",
    "outputId": "a3db3295-61d8-45e2-bb69-2f4689124c6f",
    "scrolled": false
   },
   "outputs": [
    {
     "data": {
      "application/vnd.jupyter.widget-view+json": {
       "model_id": "a5746ce4110e490094ea4c9dfe8d7c83",
       "version_major": 2,
       "version_minor": 0
      },
      "text/plain": [
       "Map(bottom=25003.090911865234, center=[40.451127265872316, -122.57995605468751], controls=(WidgetControl(optio…"
      ]
     },
     "metadata": {},
     "output_type": "display_data"
    }
   ],
   "source": [
    "# legend_dict = {\n",
    "#     'very low': 'd7191c',\n",
    "#     'low': 'fdae61',\n",
    "#     'medium': 'ffffbf',\n",
    "#     'high': 'a6d96a',\n",
    "#     'very high': '1a9641',\n",
    "# }\n",
    "\n",
    "landsatMap.add_legend(legend_title=\"dNBR\", legend_dict=legend_dict)\n",
    "landsatMap"
   ]
  },
  {
   "cell_type": "markdown",
   "metadata": {
    "id": "somR8gzBE_sj"
   },
   "source": [
    "# WARNING: Draw Geometries for Fire Region here, then Proceed!\n",
    "\n",
    "---"
   ]
  },
  {
   "cell_type": "code",
   "execution_count": 33,
   "metadata": {
    "colab": {
     "base_uri": "https://localhost:8080/"
    },
    "executionInfo": {
     "elapsed": 3,
     "status": "ok",
     "timestamp": 1665736780029,
     "user": {
      "displayName": "A. Anand",
      "userId": "11954490017722802143"
     },
     "user_tz": -330
    },
    "id": "yaisDzXpjb5K",
    "outputId": "86e30f96-0688-4b31-8feb-39b1fba423ac"
   },
   "outputs": [
    {
     "data": {
      "text/plain": [
       "[<ee.feature.Feature at 0x25912520b20>,\n",
       " <ee.feature.Feature at 0x25912581bb0>,\n",
       " <ee.feature.Feature at 0x259123edfd0>,\n",
       " <ee.feature.Feature at 0x25914f86af0>,\n",
       " <ee.feature.Feature at 0x25916107790>,\n",
       " <ee.feature.Feature at 0x25914f86c40>,\n",
       " <ee.feature.Feature at 0x25913463ac0>,\n",
       " <ee.feature.Feature at 0x259123ed850>,\n",
       " <ee.feature.Feature at 0x259161258b0>,\n",
       " <ee.feature.Feature at 0x25916107dc0>,\n",
       " <ee.feature.Feature at 0x25916125e50>,\n",
       " <ee.feature.Feature at 0x259160dad30>,\n",
       " <ee.feature.Feature at 0x25914f65cd0>,\n",
       " <ee.feature.Feature at 0x259160ef0d0>,\n",
       " <ee.feature.Feature at 0x25914ec8af0>,\n",
       " <ee.feature.Feature at 0x259160dab20>,\n",
       " <ee.feature.Feature at 0x25916107d00>,\n",
       " <ee.feature.Feature at 0x25916107cd0>,\n",
       " <ee.feature.Feature at 0x25916127e20>,\n",
       " <ee.feature.Feature at 0x25916125d30>,\n",
       " <ee.feature.Feature at 0x25916125a90>,\n",
       " <ee.feature.Feature at 0x2591608c6d0>,\n",
       " <ee.feature.Feature at 0x25916125d00>,\n",
       " <ee.feature.Feature at 0x25913463cd0>,\n",
       " <ee.feature.Feature at 0x25916113040>,\n",
       " <ee.feature.Feature at 0x259160ef880>,\n",
       " <ee.feature.Feature at 0x259160effa0>,\n",
       " <ee.feature.Feature at 0x25916113bb0>,\n",
       " <ee.feature.Feature at 0x259160efc70>,\n",
       " <ee.feature.Feature at 0x259162a8550>]"
      ]
     },
     "execution_count": 33,
     "metadata": {},
     "output_type": "execute_result"
    }
   ],
   "source": [
    "landsatMap.draw_features"
   ]
  },
  {
   "cell_type": "code",
   "execution_count": 34,
   "metadata": {
    "executionInfo": {
     "elapsed": 5,
     "status": "ok",
     "timestamp": 1665736781715,
     "user": {
      "displayName": "A. Anand",
      "userId": "11954490017722802143"
     },
     "user_tz": -330
    },
    "id": "IkvyXg1SoFv0"
   },
   "outputs": [
    {
     "name": "stdout",
     "output_type": "stream",
     "text": [
      "No. of polygons made roughly equal to  29\n"
     ]
    }
   ],
   "source": [
    "fire_lst_geom = landsatMap.draw_features\n",
    "\n",
    "fireROI = fire_lst_geom[0]\n",
    "\n",
    "for i in range(1, len(fire_lst_geom)):  \n",
    "    fireROI = fireROI.union(fire_lst_geom[i], maxError=1)\n",
    "print('No. of polygons made roughly equal to ', i)"
   ]
  },
  {
   "cell_type": "code",
   "execution_count": 35,
   "metadata": {
    "executionInfo": {
     "elapsed": 12,
     "status": "ok",
     "timestamp": 1665736783509,
     "user": {
      "displayName": "A. Anand",
      "userId": "11954490017722802143"
     },
     "user_tz": -330
    },
    "id": "DOVRuJZy5qth"
   },
   "outputs": [],
   "source": [
    "landsatMap.add_ee_layer(fireROI, {}, 'fire_ROI')"
   ]
  },
  {
   "cell_type": "markdown",
   "metadata": {
    "id": "eZKav8-oFvBK"
   },
   "source": [
    "# WARNING: Draw Geometries for Non-Fire Region here, then Proceed!\n",
    "\n",
    "---"
   ]
  },
  {
   "cell_type": "code",
   "execution_count": 36,
   "metadata": {
    "executionInfo": {
     "elapsed": 6,
     "status": "ok",
     "timestamp": 1665736673448,
     "user": {
      "displayName": "A. Anand",
      "userId": "11954490017722802143"
     },
     "user_tz": -330
    },
    "id": "ylzSWQMmoHbu"
   },
   "outputs": [
    {
     "name": "stdout",
     "output_type": "stream",
     "text": [
      "No. of polygons made roughly equal to  10\n"
     ]
    }
   ],
   "source": [
    "nonFire_lst_geom = landsatMap.draw_features\n",
    "\n",
    "nonFireROI = nonFire_lst_geom[0]\n",
    "for i in range(1, len(nonFire_lst_geom)):  \n",
    "    nonFireROI = nonFireROI.union(nonFire_lst_geom[i], maxError=1)\n",
    "print('No. of polygons made roughly equal to ', i)"
   ]
  },
  {
   "cell_type": "code",
   "execution_count": 37,
   "metadata": {
    "executionInfo": {
     "elapsed": 391,
     "status": "ok",
     "timestamp": 1665736680725,
     "user": {
      "displayName": "A. Anand",
      "userId": "11954490017722802143"
     },
     "user_tz": -330
    },
    "id": "tIjjEFKG_vDp"
   },
   "outputs": [],
   "source": [
    "landsatMap.add_ee_layer(nonFireROI, {}, 'forest_ROI')"
   ]
  },
  {
   "cell_type": "code",
   "execution_count": 38,
   "metadata": {
    "executionInfo": {
     "elapsed": 6,
     "status": "ok",
     "timestamp": 1665736789625,
     "user": {
      "displayName": "A. Anand",
      "userId": "11954490017722802143"
     },
     "user_tz": -330
    },
    "id": "CrNXmdDno-BT"
   },
   "outputs": [],
   "source": [
    "# set properties to the features\n",
    "fireROI = fireROI.set('class', 0)\n",
    "nonFireROI = nonFireROI.set('class', 1)\n",
    "\n",
    "# Make a feature collection from the hand-made geometries\n",
    "polygons = ee.FeatureCollection([\n",
    "  fireROI,\n",
    "  nonFireROI\n",
    "])\n",
    "\n",
    "polygons = polygons.map(ee.Feature)\n",
    "\n",
    "nonFire1_img = landsat_postfire_image.clip(nonFireROI)\n",
    "fire1_img = landsat_postfire_image.clip(fireROI)\n",
    "\n",
    "vis = {'bands': ['SR_B7', 'SR_B5', 'SR_B4'], 'min': 0, 'max': 0.5, 'gamma': [0.95, 1.1, 1]\n",
    "    }"
   ]
  },
  {
   "cell_type": "code",
   "execution_count": 39,
   "metadata": {},
   "outputs": [
    {
     "name": "stdout",
     "output_type": "stream",
     "text": [
      "{'type': 'FeatureCollection', 'columns': {'class': 'Integer', 'system:index': 'String'}, 'features': [{'type': 'Feature', 'geometry': {'type': 'MultiPolygon', 'coordinates': [[[[-123.273728, 40.09519300000001], [-123.271855, 40.09519300000001], [-123.271855, 40.096417], [-123.273728, 40.09641700000001], [-123.273728, 40.09519300000001]]], [[[-123.30244399999998, 40.172127], [-123.298464, 40.172127], [-123.298464, 40.17469], [-123.30244399999998, 40.17469], [-123.30244399999998, 40.172127]]], [[[-123.255974, 40.097879], [-123.253282, 40.097879], [-123.253282, 40.100504], [-123.255974, 40.100504], [-123.255974, 40.097879]]], [[[-123.299791, 40.179577], [-123.295421, 40.179577], [-123.295421, 40.182736], [-123.299791, 40.182736], [-123.299791, 40.179577]]], [[[-123.237451, 40.081281], [-123.23120799999998, 40.081281], [-123.23120799999998, 40.08522], [-123.237451, 40.08522], [-123.237451, 40.081281]]], [[[-123.285041, 40.18845699999999], [-123.27848600000002, 40.18845699999999], [-123.27848600000002, 40.193642], [-123.285041, 40.19364199999999], [-123.285041, 40.18845699999999]]], [[[-123.260459, 40.196263], [-123.253748, 40.196263], [-123.253748, 40.199659999999994], [-123.260459, 40.19966], [-123.260459, 40.196263]]], [[[-123.490677, 41.087346], [-123.48882399999998, 41.08734599999999], [-123.48882399999998, 41.08897799999999], [-123.490677, 41.08897799999999], [-123.490677, 41.087346]]], [[[-123.48596700000002, 41.094814], [-123.483216, 41.094814], [-123.483216, 41.097092], [-123.48596700000002, 41.097092], [-123.48596700000002, 41.094814]]], [[[-123.494592, 41.134214], [-123.492251, 41.134214], [-123.492251, 41.135977], [-123.494592, 41.135977], [-123.494592, 41.134214]]], [[[-122.66906400000002, 39.671996], [-122.66219599999998, 39.671996], [-122.66219599999998, 39.6774], [-122.66906400000002, 39.6774], [-122.66906400000002, 39.671996]]], [[[-123.444799, 41.07638], [-123.440936, 41.07638], [-123.440936, 41.079201999999995], [-123.444799, 41.079202], [-123.444799, 41.07638]]], [[[-123.43951199999998, 41.07414500000001], [-123.43785399999999, 41.07414500000001], [-123.43785399999999, 41.075792], [-123.43951199999998, 41.075792], [-123.43951199999998, 41.07414500000001]]], [[[-122.66680000000002, 39.692048], [-122.66172800000001, 39.69204800000001], [-122.661728, 39.69931], [-122.66680000000002, 39.69931], [-122.66680000000002, 39.692048]]], [[[-122.65111400000004, 39.670075], [-122.64612000000001, 39.670075], [-122.64612000000002, 39.67481800000001], [-122.65111400000004, 39.67481800000001], [-122.65111400000004, 39.670075]]], [[[-122.65626500000002, 39.688746], [-122.65361199999998, 39.688746], [-122.65361199999998, 39.692948], [-122.65626500000002, 39.692948], [-122.65626500000002, 39.688746]]], [[[-122.64643200000005, 39.700151], [-122.64455899999999, 39.70015099999999], [-122.64455899999999, 39.703272000000005], [-122.64643200000005, 39.703272000000005], [-122.64643200000005, 39.700151]]], [[[-123.302867, 41.105133], [-123.301931, 41.105133], [-123.301931, 41.105985], [-123.302867, 41.105985], [-123.302867, 41.105133]]], [[[-123.27312, 41.084181], [-123.269842, 41.084181], [-123.269842, 41.085886], [-123.27312, 41.085886], [-123.27312, 41.084181]]], [[[-123.283004, 41.118858], [-123.28120900000002, 41.11885800000001], [-123.28120900000002, 41.120973], [-123.283004, 41.12097299999999], [-123.283004, 41.118858]]], [[[-123.270979, 41.107055], [-123.26653000000002, 41.10705500000001], [-123.26653000000002, 41.10999399999999], [-123.270979, 41.10999399999999], [-123.270979, 41.107055]]], [[[-122.638088, 40.4286], [-122.63106500000002, 40.4286], [-122.63106500000002, 40.435132], [-122.638088, 40.435132], [-122.638088, 40.4286]]], [[[-122.62210000000002, 40.426793], [-122.616715, 40.426793], [-122.616715, 40.43189900000001], [-122.62210000000002, 40.431899], [-122.62210000000002, 40.426793]]], [[[-122.65684800000001, 40.501381], [-122.652868, 40.501381], [-122.652868, 40.505059], [-122.65684800000001, 40.505059], [-122.65684800000001, 40.501381]]], [[[-122.59447400000002, 40.417825], [-122.59033800000002, 40.417825], [-122.59033800000002, 40.421983], [-122.59447400000003, 40.421983], [-122.59447400000002, 40.417825]]], [[[-122.635699, 40.51155299999999], [-122.633943, 40.51155299999999], [-122.633943, 40.513125], [-122.635699, 40.513125], [-122.635699, 40.51155299999999]]], [[[-122.62454, 40.51214600000001], [-122.621964, 40.51214600000001], [-122.621964, 40.514934], [-122.62454, 40.514934], [-122.62454, 40.51214600000001]]], [[[-122.60224800000005, 40.513154], [-122.59988799999999, 40.51315400000001], [-122.59988799999999, 40.51502300000001], [-122.60224800000005, 40.515023], [-122.60224800000005, 40.513154]]], [[[-123.39334800000002, 41.140966999999996], [-123.39223400000002, 41.14095175177024], [-123.39223400000002, 41.139215], [-123.38909300000002, 41.139215], [-123.38909300000002, 41.141799], [-123.39223400000002, 41.141799], [-123.39334800000002, 41.140966999999996]]]]}, 'id': '0', 'properties': {'class': 0}}, {'type': 'Feature', 'geometry': {'type': 'MultiPolygon', 'coordinates': [[[[-123.85298700000001, 39.764827], [-123.80678800000001, 39.764827], [-123.80678800000001, 39.784971999999996], [-123.85298700000001, 39.784971999999996], [-123.85298700000001, 39.764827]]], [[[-123.844246, 39.921032], [-123.80678800000001, 39.921032], [-123.80678800000001, 39.95165599999999], [-123.844246, 39.95165599999999], [-123.844246, 39.921032]]], [[[-123.796807, 40.552085], [-123.778389, 40.552085], [-123.778389, 40.56773100000001], [-123.796807, 40.56773100000001], [-123.796807, 40.552085]]], [[[-123.27590700000002, 39.782146000000004], [-123.247813, 39.782146], [-123.247813, 39.802285999999995], [-123.27590700000002, 39.80228600000001], [-123.27590700000002, 39.782146000000004]]], [[[-123.58726100000001, 40.586769], [-123.582735, 40.586769], [-123.582735, 40.590797], [-123.58726100000001, 40.590797], [-123.58726100000001, 40.586769]]], [[[-123.531229, 40.57645999999999], [-123.51983500000001, 40.57645999999999], [-123.51983500000001, 40.585939], [-123.531229, 40.585939], [-123.531229, 40.57645999999999]]], [[[-123.39223400000002, 41.139215], [-123.38909300000002, 41.139215], [-123.38909300000002, 41.141799], [-123.39223400000002, 41.141799], [-123.39223400000002, 41.139215]]], [[[-123.247001, 40.90358], [-123.22171600000001, 40.90358], [-123.22171600000001, 40.919615], [-123.247001, 40.919615], [-123.247001, 40.90358]]], [[[-122.958311, 41.03494400000001], [-122.94083, 41.03494400000001], [-122.94083, 41.049536], [-122.958311, 41.049536], [-122.958311, 41.03494400000001]]], [[[-122.18458100000001, 40.789933], [-122.17225, 40.78993299999999], [-122.17225, 40.799972], [-122.18458100000001, 40.799972], [-122.18458100000001, 40.789933]]], [[[-122.26309199999999, 40.087999], [-122.225945, 40.087999], [-122.18879800000002, 40.087999], [-122.18879800000002, 40.10948], [-122.225945, 40.10948], [-122.26309199999999, 40.10948], [-122.26309199999999, 40.087999]]]]}, 'id': '1', 'properties': {'class': 1}}]}\n"
     ]
    }
   ],
   "source": [
    "# polygons['columns'].getInfo\n",
    "print(polygons.getInfo())"
   ]
  },
  {
   "cell_type": "code",
   "execution_count": 40,
   "metadata": {
    "colab": {
     "base_uri": "https://localhost:8080/",
     "height": 621,
     "referenced_widgets": [
      "0ae0b0c6fc5144ba9dc3ac1d6df2a480",
      "a31f4f833bd8457f9559a38cee02ece2",
      "9832d0cda00146f784811503667d9f6d",
      "2cecb44f2b4840b8a012b3989397bfad",
      "3d53069a8b424385b0f6fb8d1779ff8a",
      "15496c7bb19c49f3ae1f2cc35073a3ea",
      "08094a91886e4229a14fddd03224c3bc",
      "e073295f879442fcbb1ec0ec18ea3adb",
      "efb5c13ce7a546b3a8de0fa82b4e2856",
      "9c0402f8ec1647f996351dc06310a23c",
      "69e7f334cd7e415bb824f05f9af44e0e",
      "34cbc628077a421ba5d3e8208a122e8f",
      "5e11b57f8bea4066b94cc74a5bb0e414",
      "5b7f6805400c4fc5ad4e4be7a00d69d1",
      "73987207ba8843c7812125cabe577c30",
      "ecd3e247c81e4279b5d639ae33078bf1",
      "f5d35cc27b214beb92a3be3440a0a348",
      "2a66371dd09e4ffcaca2d2e7db73a272",
      "1869a58517ec44c08ff547c7ebc431e5",
      "57b04c9c6480484396d83f1934a12e00",
      "f6a54a6f7ce1432abe985ccdca5d0774",
      "502f902a69ae49b389643cb8812e6395",
      "4e53a823c20340b39aaaf86577c72ffd",
      "bfe7b4c5ff734cab940e48bbad3e9b0d",
      "1b39cf7e0bd04c41bd1552bcafab8e99",
      "cc819c4d513c464b9e7509504932be7f",
      "076543847e94461fb891a2a761057068",
      "57b4a9eb9e1a45f5878331251e133069",
      "95bf85b767b44cbdad41a3fb0858f63b",
      "729fc2c1628f41fb9c66d53782f7b186",
      "50368147fb4a4bb8a6c534356d666f9a",
      "2385ed8562194a04a590eacb655fd4c0",
      "9b74aa6639944c0e9ab6dc20afb38329",
      "ada570fd1d13408495f33c622f327106",
      "d51aa31aa35b42b4aac727911084f495",
      "befe273fbaaf4753a75fdffd8eb50f3a",
      "82441b8b69d44263bb6c25109b2f1c75",
      "4d96c0cc37a1488c8c767eb451b03e94",
      "ac7677d76c264c049f4f55e714eed327"
     ]
    },
    "executionInfo": {
     "elapsed": 1118,
     "status": "ok",
     "timestamp": 1665736795272,
     "user": {
      "displayName": "A. Anand",
      "userId": "11954490017722802143"
     },
     "user_tz": -330
    },
    "id": "DcbmnPItpa4U",
    "outputId": "72071ec2-3beb-4553-83b3-415253f8e205"
   },
   "outputs": [
    {
     "data": {
      "application/vnd.jupyter.widget-view+json": {
       "model_id": "a5746ce4110e490094ea4c9dfe8d7c83",
       "version_major": 2,
       "version_minor": 0
      },
      "text/plain": [
       "Map(bottom=49771.0, center=[40.31579194870286, -122.75896645779824], controls=(WidgetControl(options=['positio…"
      ]
     },
     "metadata": {},
     "output_type": "display_data"
    }
   ],
   "source": [
    "landsatMap.add_ee_layer(nonFire1_img, vis, 'Non Fire')\n",
    "landsatMap.add_ee_layer(fire1_img, vis, 'Fire')\n",
    "\n",
    "landsatMap"
   ]
  },
  {
   "cell_type": "markdown",
   "metadata": {},
   "source": [
    "## Classification Process"
   ]
  },
  {
   "cell_type": "code",
   "execution_count": 41,
   "metadata": {
    "executionInfo": {
     "elapsed": 372,
     "status": "ok",
     "timestamp": 1665736824171,
     "user": {
      "displayName": "A. Anand",
      "userId": "11954490017722802143"
     },
     "user_tz": -330
    },
    "id": "xT7fKSspqQpj"
   },
   "outputs": [],
   "source": [
    "related_bands = ['SR_B4','SR_B5','SR_B6','SR_B7','dNBR']"
   ]
  },
  {
   "cell_type": "code",
   "execution_count": 42,
   "metadata": {
    "executionInfo": {
     "elapsed": 373,
     "status": "ok",
     "timestamp": 1665736827405,
     "user": {
      "displayName": "A. Anand",
      "userId": "11954490017722802143"
     },
     "user_tz": -330
    },
    "id": "9BY3hPjzqg5j"
   },
   "outputs": [],
   "source": [
    "#Get the values for all the pixels in each polygon in the training\n",
    " \n",
    "trainImage = landsat_postfire_image.sampleRegions(**{\n",
    "    # Get the sample from the polygons FeatureCollection\n",
    "    'collection': polygons,\n",
    "    # Keep this list of properties from the polygons\n",
    "     'properties': ['class'],\n",
    "      #Set the scale to get Landsat pixels in the polygons\n",
    "      'scale': 30\n",
    "})"
   ]
  },
  {
   "cell_type": "code",
   "execution_count": 43,
   "metadata": {},
   "outputs": [],
   "source": [
    "trainingData = trainImage.randomColumn()\n",
    "trainSet = trainingData.filter('random<0.8')\n",
    "testSet = trainingData.filter('random>=0.8')"
   ]
  },
  {
   "cell_type": "code",
   "execution_count": 44,
   "metadata": {},
   "outputs": [],
   "source": [
    "# print('No. of pixels in training set:', len(trainSet.getInfo()['features']))\n",
    "# print('No. of pixels in test set:', len(testSet.getInfo()['features']))"
   ]
  },
  {
   "cell_type": "code",
   "execution_count": 45,
   "metadata": {
    "executionInfo": {
     "elapsed": 1,
     "status": "ok",
     "timestamp": 1665736829352,
     "user": {
      "displayName": "A. Anand",
      "userId": "11954490017722802143"
     },
     "user_tz": -330
    },
    "id": "cwpQisSeqzhM"
   },
   "outputs": [],
   "source": [
    "# Create an SVM classifier with custom parameters\n",
    "model = ee.Classifier.libsvm(**{\n",
    "    'decisionProcedure':'Margin',\n",
    "    'kernelType': 'RBF',\n",
    "    'gamma': 0.5,\n",
    "    'cost': 1\n",
    "})"
   ]
  },
  {
   "cell_type": "code",
   "execution_count": 46,
   "metadata": {
    "executionInfo": {
     "elapsed": 5,
     "status": "ok",
     "timestamp": 1665736831309,
     "user": {
      "displayName": "A. Anand",
      "userId": "11954490017722802143"
     },
     "user_tz": -330
    },
    "id": "MYoxMa-7q0i0"
   },
   "outputs": [],
   "source": [
    "# Train the classifier\n",
    "svm_classifier = model.train(trainSet, 'class', related_bands)"
   ]
  },
  {
   "cell_type": "code",
   "execution_count": 47,
   "metadata": {},
   "outputs": [
    {
     "name": "stdout",
     "output_type": "stream",
     "text": [
      "Results of trained classifier {'classes': [0, 1], 'svm_parameters': {'C': 1, 'coef0': 0, 'degree': 0, 'eps': 0.001, 'gamma': 0.5, 'kernel_type': 'RBF', 'nu': 0.5, 'p': 0.1, 'probability': 0, 'shrinking': 1, 'svm_type': 'C_SVC'}}\n"
     ]
    }
   ],
   "source": [
    "print('Results of trained classifier', svm_classifier.explain().getInfo())"
   ]
  },
  {
   "cell_type": "code",
   "execution_count": 48,
   "metadata": {
    "executionInfo": {
     "elapsed": 6,
     "status": "ok",
     "timestamp": 1665736832875,
     "user": {
      "displayName": "A. Anand",
      "userId": "11954490017722802143"
     },
     "user_tz": -330
    },
    "id": "pRi1ULQBq3Dk"
   },
   "outputs": [],
   "source": [
    "# Classify the image\n",
    "classified = landsat_postfire_image.classify(**{\n",
    "                        'classifier': svm_classifier,\n",
    "                        'outputName':'predicted_landcover'}) "
   ]
  },
  {
   "cell_type": "code",
   "execution_count": 49,
   "metadata": {
    "colab": {
     "base_uri": "https://localhost:8080/",
     "height": 621,
     "referenced_widgets": [
      "0ae0b0c6fc5144ba9dc3ac1d6df2a480",
      "a31f4f833bd8457f9559a38cee02ece2",
      "9832d0cda00146f784811503667d9f6d",
      "2cecb44f2b4840b8a012b3989397bfad",
      "3d53069a8b424385b0f6fb8d1779ff8a",
      "15496c7bb19c49f3ae1f2cc35073a3ea",
      "08094a91886e4229a14fddd03224c3bc",
      "e073295f879442fcbb1ec0ec18ea3adb",
      "efb5c13ce7a546b3a8de0fa82b4e2856",
      "9c0402f8ec1647f996351dc06310a23c",
      "69e7f334cd7e415bb824f05f9af44e0e",
      "34cbc628077a421ba5d3e8208a122e8f",
      "5e11b57f8bea4066b94cc74a5bb0e414",
      "5b7f6805400c4fc5ad4e4be7a00d69d1",
      "73987207ba8843c7812125cabe577c30",
      "ecd3e247c81e4279b5d639ae33078bf1",
      "f5d35cc27b214beb92a3be3440a0a348",
      "2a66371dd09e4ffcaca2d2e7db73a272",
      "1869a58517ec44c08ff547c7ebc431e5",
      "57b04c9c6480484396d83f1934a12e00",
      "f6a54a6f7ce1432abe985ccdca5d0774",
      "502f902a69ae49b389643cb8812e6395",
      "ac7677d76c264c049f4f55e714eed327",
      "4e53a823c20340b39aaaf86577c72ffd",
      "bfe7b4c5ff734cab940e48bbad3e9b0d",
      "1b39cf7e0bd04c41bd1552bcafab8e99",
      "cc819c4d513c464b9e7509504932be7f",
      "076543847e94461fb891a2a761057068",
      "57b4a9eb9e1a45f5878331251e133069",
      "95bf85b767b44cbdad41a3fb0858f63b",
      "729fc2c1628f41fb9c66d53782f7b186",
      "50368147fb4a4bb8a6c534356d666f9a",
      "2385ed8562194a04a590eacb655fd4c0",
      "9b74aa6639944c0e9ab6dc20afb38329",
      "ada570fd1d13408495f33c622f327106",
      "d51aa31aa35b42b4aac727911084f495",
      "befe273fbaaf4753a75fdffd8eb50f3a",
      "82441b8b69d44263bb6c25109b2f1c75",
      "4d96c0cc37a1488c8c767eb451b03e94"
     ]
    },
    "executionInfo": {
     "elapsed": 124094,
     "status": "ok",
     "timestamp": 1665736958940,
     "user": {
      "displayName": "A. Anand",
      "userId": "11954490017722802143"
     },
     "user_tz": -330
    },
    "id": "I8qZ-j9Nq5LE",
    "outputId": "b07705ca-a315-4e9a-cf00-c491c870eedf"
   },
   "outputs": [
    {
     "data": {
      "application/vnd.jupyter.widget-view+json": {
       "model_id": "a5746ce4110e490094ea4c9dfe8d7c83",
       "version_major": 2,
       "version_minor": 0
      },
      "text/plain": [
       "Map(bottom=49771.0, center=[40.31579194870286, -122.75896645779824], controls=(WidgetControl(options=['positio…"
      ]
     },
     "metadata": {},
     "output_type": "display_data"
    }
   ],
   "source": [
    "landsatMap.add_ee_layer(classified, {'min': 0, 'max': 1, 'palette': ['red', 'green']}, 'deforestation')\n",
    "landsatMap"
   ]
  },
  {
   "cell_type": "code",
   "execution_count": 50,
   "metadata": {
    "colab": {
     "base_uri": "https://localhost:8080/",
     "height": 991
    },
    "executionInfo": {
     "elapsed": 1444,
     "status": "ok",
     "timestamp": 1665736976055,
     "user": {
      "displayName": "A. Anand",
      "userId": "11954490017722802143"
     },
     "user_tz": -330
    },
    "id": "w7-EY4U-q-ek",
    "outputId": "1932cacb-8fe9-4867-ddc6-25487ae4c0c7"
   },
   "outputs": [
    {
     "data": {
      "text/html": [
       "<div style=\"width:100%;\"><div style=\"position:relative;width:100%;height:0;padding-bottom:60%;\"><span style=\"color:#565656\">Make this Notebook Trusted to load map: File -> Trust Notebook</span><iframe srcdoc=\"&lt;!DOCTYPE html&gt;\n",
       "&lt;head&gt;    \n",
       "    &lt;meta http-equiv=&quot;content-type&quot; content=&quot;text/html; charset=UTF-8&quot; /&gt;\n",
       "    \n",
       "        &lt;script&gt;\n",
       "            L_NO_TOUCH = false;\n",
       "            L_DISABLE_3D = false;\n",
       "        &lt;/script&gt;\n",
       "    \n",
       "    &lt;style&gt;html, body {width: 100%;height: 100%;margin: 0;padding: 0;}&lt;/style&gt;\n",
       "    &lt;style&gt;#map {position:absolute;top:0;bottom:0;right:0;left:0;}&lt;/style&gt;\n",
       "    &lt;script src=&quot;https://cdn.jsdelivr.net/npm/leaflet@1.6.0/dist/leaflet.js&quot;&gt;&lt;/script&gt;\n",
       "    &lt;script src=&quot;https://code.jquery.com/jquery-1.12.4.min.js&quot;&gt;&lt;/script&gt;\n",
       "    &lt;script src=&quot;https://maxcdn.bootstrapcdn.com/bootstrap/3.2.0/js/bootstrap.min.js&quot;&gt;&lt;/script&gt;\n",
       "    &lt;script src=&quot;https://cdnjs.cloudflare.com/ajax/libs/Leaflet.awesome-markers/2.0.2/leaflet.awesome-markers.js&quot;&gt;&lt;/script&gt;\n",
       "    &lt;link rel=&quot;stylesheet&quot; href=&quot;https://cdn.jsdelivr.net/npm/leaflet@1.6.0/dist/leaflet.css&quot;/&gt;\n",
       "    &lt;link rel=&quot;stylesheet&quot; href=&quot;https://maxcdn.bootstrapcdn.com/bootstrap/3.2.0/css/bootstrap.min.css&quot;/&gt;\n",
       "    &lt;link rel=&quot;stylesheet&quot; href=&quot;https://maxcdn.bootstrapcdn.com/bootstrap/3.2.0/css/bootstrap-theme.min.css&quot;/&gt;\n",
       "    &lt;link rel=&quot;stylesheet&quot; href=&quot;https://maxcdn.bootstrapcdn.com/font-awesome/4.6.3/css/font-awesome.min.css&quot;/&gt;\n",
       "    &lt;link rel=&quot;stylesheet&quot; href=&quot;https://cdnjs.cloudflare.com/ajax/libs/Leaflet.awesome-markers/2.0.2/leaflet.awesome-markers.css&quot;/&gt;\n",
       "    &lt;link rel=&quot;stylesheet&quot; href=&quot;https://cdn.jsdelivr.net/gh/python-visualization/folium/folium/templates/leaflet.awesome.rotate.min.css&quot;/&gt;\n",
       "    \n",
       "            &lt;meta name=&quot;viewport&quot; content=&quot;width=device-width,\n",
       "                initial-scale=1.0, maximum-scale=1.0, user-scalable=no&quot; /&gt;\n",
       "            &lt;style&gt;\n",
       "                #map_ebdf59ff9b9768dc6b9bc5d7da77e6eb {\n",
       "                    position: relative;\n",
       "                    width: 100.0%;\n",
       "                    height: 100.0%;\n",
       "                    left: 0.0%;\n",
       "                    top: 0.0%;\n",
       "                }\n",
       "            &lt;/style&gt;\n",
       "        \n",
       "&lt;/head&gt;\n",
       "&lt;body&gt;    \n",
       "    \n",
       "            &lt;div class=&quot;folium-map&quot; id=&quot;map_ebdf59ff9b9768dc6b9bc5d7da77e6eb&quot; &gt;&lt;/div&gt;\n",
       "        \n",
       "&lt;/body&gt;\n",
       "&lt;script&gt;    \n",
       "    \n",
       "            var map_ebdf59ff9b9768dc6b9bc5d7da77e6eb = L.map(\n",
       "                &quot;map_ebdf59ff9b9768dc6b9bc5d7da77e6eb&quot;,\n",
       "                {\n",
       "                    center: [39.87, -123.09],\n",
       "                    crs: L.CRS.EPSG3857,\n",
       "                    zoom: 8,\n",
       "                    zoomControl: true,\n",
       "                    preferCanvas: false,\n",
       "                }\n",
       "            );\n",
       "\n",
       "            \n",
       "\n",
       "        \n",
       "    \n",
       "            var tile_layer_b05a4eef43b939dfe5953082678499cd = L.tileLayer(\n",
       "                &quot;https://{s}.tile.openstreetmap.org/{z}/{x}/{y}.png&quot;,\n",
       "                {&quot;attribution&quot;: &quot;Data by \\u0026copy; \\u003ca href=\\&quot;http://openstreetmap.org\\&quot;\\u003eOpenStreetMap\\u003c/a\\u003e, under \\u003ca href=\\&quot;http://www.openstreetmap.org/copyright\\&quot;\\u003eODbL\\u003c/a\\u003e.&quot;, &quot;detectRetina&quot;: false, &quot;maxNativeZoom&quot;: 18, &quot;maxZoom&quot;: 18, &quot;minZoom&quot;: 0, &quot;noWrap&quot;: false, &quot;opacity&quot;: 1, &quot;subdomains&quot;: &quot;abc&quot;, &quot;tms&quot;: false}\n",
       "            ).addTo(map_ebdf59ff9b9768dc6b9bc5d7da77e6eb);\n",
       "        \n",
       "    \n",
       "            var tile_layer_942c0596c834ff7c4f24e7d26052a670 = L.tileLayer(\n",
       "                &quot;https://earthengine.googleapis.com/v1alpha/projects/earthengine-legacy/maps/bbf6df90c82134ea0e198d5f0d535742-02d3997f24cb204ab3040ef800407a5e/tiles/{z}/{x}/{y}&quot;,\n",
       "                {&quot;attribution&quot;: &quot;Map Data \\u0026copy; \\u003ca href=\\&quot;https://earthengine.google.com/\\&quot;\\u003eGoogle Earth Engine\\u003c/a\\u003e&quot;, &quot;detectRetina&quot;: false, &quot;maxNativeZoom&quot;: 18, &quot;maxZoom&quot;: 18, &quot;minZoom&quot;: 0, &quot;noWrap&quot;: false, &quot;opacity&quot;: 1, &quot;subdomains&quot;: &quot;abc&quot;, &quot;tms&quot;: false}\n",
       "            ).addTo(map_ebdf59ff9b9768dc6b9bc5d7da77e6eb);\n",
       "        \n",
       "    \n",
       "            var tile_layer_e11d56364c97947b749abdd794dbbbeb = L.tileLayer(\n",
       "                &quot;https://earthengine.googleapis.com/v1alpha/projects/earthengine-legacy/maps/9eef50f6d80948e55689fb49168c4e2b-a77e065ed9affb15aa9d3eb85a12ae82/tiles/{z}/{x}/{y}&quot;,\n",
       "                {&quot;attribution&quot;: &quot;Map Data \\u0026copy; \\u003ca href=\\&quot;https://earthengine.google.com/\\&quot;\\u003eGoogle Earth Engine\\u003c/a\\u003e&quot;, &quot;detectRetina&quot;: false, &quot;maxNativeZoom&quot;: 18, &quot;maxZoom&quot;: 18, &quot;minZoom&quot;: 0, &quot;noWrap&quot;: false, &quot;opacity&quot;: 1, &quot;subdomains&quot;: &quot;abc&quot;, &quot;tms&quot;: false}\n",
       "            ).addTo(map_ebdf59ff9b9768dc6b9bc5d7da77e6eb);\n",
       "        \n",
       "    \n",
       "            var layer_control_c2b2b7c0ef81579be8fac2a74061ce9f = {\n",
       "                base_layers : {\n",
       "                    &quot;openstreetmap&quot; : tile_layer_b05a4eef43b939dfe5953082678499cd,\n",
       "                },\n",
       "                overlays :  {\n",
       "                    &quot;Postfire&quot; : tile_layer_942c0596c834ff7c4f24e7d26052a670,\n",
       "                    &quot;deforestation&quot; : tile_layer_e11d56364c97947b749abdd794dbbbeb,\n",
       "                },\n",
       "            };\n",
       "            L.control.layers(\n",
       "                layer_control_c2b2b7c0ef81579be8fac2a74061ce9f.base_layers,\n",
       "                layer_control_c2b2b7c0ef81579be8fac2a74061ce9f.overlays,\n",
       "                {&quot;autoZIndex&quot;: true, &quot;collapsed&quot;: true, &quot;position&quot;: &quot;topright&quot;}\n",
       "            ).addTo(map_ebdf59ff9b9768dc6b9bc5d7da77e6eb);\n",
       "        \n",
       "&lt;/script&gt;\" style=\"position:absolute;width:100%;height:100%;left:0;top:0;border:none !important;\" allowfullscreen webkitallowfullscreen mozallowfullscreen></iframe></div></div>"
      ],
      "text/plain": [
       "<folium.folium.Map at 0x25916375370>"
      ]
     },
     "metadata": {},
     "output_type": "display_data"
    }
   ],
   "source": [
    "# Create a folium map object.\n",
    "my_map = folium.Map(location=[39.87,-123.090], zoom_start = 8)\n",
    "\n",
    "vis_params = {'min':0, 'max':0.4, 'bands': ['SR_B7', 'SR_B5', 'SR_B4']} # swir2, nir, red\n",
    "my_map.add_ee_layer(landsat_postfire_image, vis_params, \"Postfire\")\n",
    "my_map.add_ee_layer(classified, {'min': 0, 'max': 1, 'palette': ['red', 'green']}, 'deforestation')\n",
    "\n",
    "# Add a layer control panel to the map.\n",
    "my_map.add_child(folium.LayerControl())\n",
    "\n",
    "# Display the map.\n",
    "display(my_map)"
   ]
  },
  {
   "cell_type": "markdown",
   "metadata": {},
   "source": [
    "### Training Accuracy Assessment with Confusion Matrix"
   ]
  },
  {
   "cell_type": "code",
   "execution_count": 51,
   "metadata": {
    "id": "DXI2W-HyIXIz"
   },
   "outputs": [],
   "source": [
    "# Get a confusion matrix and overall accuracy for the training sample.\n",
    "confMatrixTrain = svm_classifier.confusionMatrix()\n",
    "# print('Training error matrix', trainAccuracy)"
   ]
  },
  {
   "cell_type": "code",
   "execution_count": 52,
   "metadata": {},
   "outputs": [
    {
     "name": "stdout",
     "output_type": "stream",
     "text": [
      "[[3379, 23], [179, 45437]]\n"
     ]
    }
   ],
   "source": [
    "# print(type(confMatrixTrain))\n",
    "print(confMatrixTrain.getInfo())"
   ]
  },
  {
   "cell_type": "code",
   "execution_count": 53,
   "metadata": {},
   "outputs": [
    {
     "name": "stdout",
     "output_type": "stream",
     "text": [
      "Overall accuracy = 0.9958790648333266\n",
      "Consumer's accuracy = [[0.9496908375491849, 0.9994940607127145]]\n",
      "Producer's accuracy = [[0.9932392710170488], [0.9960759382672746]]\n",
      "Kappa statistic = 0.9687602829520081\n"
     ]
    }
   ],
   "source": [
    "# // Calculate overall accuracy.\n",
    "print(\"Overall accuracy =\", confMatrixTrain.accuracy().getInfo())\n",
    "\n",
    "# // Calculate consumer's accuracy, also known as user's accuracy or\n",
    "# // specificity and the complement of commission error (1 − commission error).\n",
    "print(\"Consumer's accuracy =\", confMatrixTrain.consumersAccuracy().getInfo())\n",
    "\n",
    "# // Calculate producer's accuracy, also known as sensitivity and the\n",
    "# // compliment of omission error (1 − omission error).\n",
    "print(\"Producer's accuracy =\", confMatrixTrain.producersAccuracy().getInfo())\n",
    "\n",
    "# // Calculate kappa statistic.\n",
    "print('Kappa statistic =', confMatrixTrain.kappa().getInfo())"
   ]
  },
  {
   "cell_type": "markdown",
   "metadata": {},
   "source": [
    "### Testing "
   ]
  },
  {
   "cell_type": "code",
   "execution_count": 54,
   "metadata": {},
   "outputs": [],
   "source": [
    "testRes = testSet.classify(**{\n",
    "                        'classifier': svm_classifier,\n",
    "                        'outputName': 'predicted_landcover'\n",
    "})\n",
    "\n",
    "# em is error_matrix \n",
    "em = testRes.errorMatrix(**{\n",
    "                        'actual':'class',\n",
    "                        'predicted': 'predicted_landcover'\n",
    "                    })\n",
    "\n",
    "confMatrixTest = ee.ConfusionMatrix(em)"
   ]
  },
  {
   "cell_type": "code",
   "execution_count": 55,
   "metadata": {},
   "outputs": [
    {
     "name": "stdout",
     "output_type": "stream",
     "text": [
      "[[895, 7], [37, 11559]]\n"
     ]
    }
   ],
   "source": [
    "print(confMatrixTest.getInfo())"
   ]
  },
  {
   "cell_type": "code",
   "execution_count": 56,
   "metadata": {},
   "outputs": [
    {
     "name": "stdout",
     "output_type": "stream",
     "text": [
      "Overall accuracy = 0.9964794367098736\n",
      "Consumer's accuracy = [[0.9603004291845494, 0.9993947777969912]]\n",
      "Producer's accuracy = [[0.9922394678492239], [0.9968092445670921]]\n",
      "Kappa statistic = 0.9741096093955539\n"
     ]
    }
   ],
   "source": [
    "# // Calculate overall accuracy.\n",
    "print(\"Overall accuracy =\", confMatrixTest.accuracy().getInfo())\n",
    "\n",
    "# // Calculate consumer's accuracy, also known as user's accuracy or\n",
    "# // specificity and the complement of commission error (1 − commission error).\n",
    "print(\"Consumer's accuracy =\", confMatrixTest.consumersAccuracy().getInfo())\n",
    "\n",
    "# // Calculate producer's accuracy, also known as sensitivity and the\n",
    "# // compliment of omission error (1 − omission error).\n",
    "print(\"Producer's accuracy =\", confMatrixTest.producersAccuracy().getInfo())\n",
    "\n",
    "# // Calculate kappa statistic.\n",
    "print('Kappa statistic =', confMatrixTest.kappa().getInfo())"
   ]
  },
  {
   "cell_type": "code",
   "execution_count": null,
   "metadata": {},
   "outputs": [],
   "source": []
  }
 ],
 "metadata": {
  "colab": {
   "authorship_tag": "ABX9TyPRrdGQ+xED27+P2Km2lJ+l",
   "provenance": []
  },
  "hide_input": false,
  "kernelspec": {
   "display_name": "Python 3 (ipykernel)",
   "language": "python",
   "name": "python3"
  },
  "language_info": {
   "codemirror_mode": {
    "name": "ipython",
    "version": 3
   },
   "file_extension": ".py",
   "mimetype": "text/x-python",
   "name": "python",
   "nbconvert_exporter": "python",
   "pygments_lexer": "ipython3",
   "version": "3.8.13"
  },
  "toc": {
   "base_numbering": 1,
   "nav_menu": {},
   "number_sections": true,
   "sideBar": true,
   "skip_h1_title": false,
   "title_cell": "Table of Contents",
   "title_sidebar": "Contents",
   "toc_cell": false,
   "toc_position": {},
   "toc_section_display": true,
   "toc_window_display": false
  },
  "widgets": {
   "application/vnd.jupyter.widget-state+json": {
    "03853c963a164d248b7cb5ca016433f2": {
     "model_module": "jupyter-leaflet",
     "model_module_version": "^0.17",
     "model_name": "LeafletTileLayerModel",
     "state": {
      "_model_module": "jupyter-leaflet",
      "_model_module_version": "^0.17",
      "_model_name": "LeafletTileLayerModel",
      "_view_count": null,
      "_view_module": "jupyter-leaflet",
      "_view_module_version": "^0.17",
      "_view_name": "LeafletTileLayerView",
      "attribution": "Google Earth Engine",
      "base": false,
      "bottom": true,
      "bounds": null,
      "detect_retina": false,
      "loading": true,
      "max_native_zoom": null,
      "max_zoom": 18,
      "min_native_zoom": null,
      "min_zoom": 0,
      "name": "Drawn Features",
      "no_wrap": false,
      "opacity": 0.5,
      "options": [
       "attribution",
       "bounds",
       "detect_retina",
       "max_native_zoom",
       "max_zoom",
       "min_native_zoom",
       "min_zoom",
       "no_wrap",
       "tile_size",
       "tms",
       "zoom_offset"
      ],
      "pane": "",
      "popup": null,
      "popup_max_height": null,
      "popup_max_width": 300,
      "popup_min_width": 50,
      "show_loading": false,
      "tile_size": 256,
      "tms": false,
      "url": "https://earthengine.googleapis.com/v1alpha/projects/earthengine-legacy/maps/8cb59967f080e7af2980d3d6bbc2ed91-6639378479415a79aca778a625cee0ab/tiles/{z}/{x}/{y}",
      "visible": false,
      "zoom_offset": 0
     }
    },
    "076543847e94461fb891a2a761057068": {
     "model_module": "@jupyter-widgets/controls",
     "model_module_version": "1.5.0",
     "model_name": "ToggleButtonModel",
     "state": {
      "_dom_classes": [],
      "_model_module": "@jupyter-widgets/controls",
      "_model_module_version": "1.5.0",
      "_model_name": "ToggleButtonModel",
      "_view_count": null,
      "_view_module": "@jupyter-widgets/controls",
      "_view_module_version": "1.5.0",
      "_view_name": "ToggleButtonView",
      "button_style": "",
      "description": "",
      "description_tooltip": null,
      "disabled": false,
      "icon": "globe",
      "layout": "IPY_MODEL_2385ed8562194a04a590eacb655fd4c0",
      "style": "IPY_MODEL_9b74aa6639944c0e9ab6dc20afb38329",
      "tooltip": "Search location/data",
      "value": false
     }
    },
    "08094a91886e4229a14fddd03224c3bc": {
     "model_module": "jupyter-leaflet",
     "model_module_version": "^0.17",
     "model_name": "LeafletAttributionControlModel",
     "state": {
      "_model_module": "jupyter-leaflet",
      "_model_module_version": "^0.17",
      "_model_name": "LeafletAttributionControlModel",
      "_view_count": null,
      "_view_module": "jupyter-leaflet",
      "_view_module_version": "^0.17",
      "_view_name": "LeafletAttributionControlView",
      "options": [
       "position",
       "prefix"
      ],
      "position": "bottomright",
      "prefix": "ipyleaflet"
     }
    },
    "0ae0b0c6fc5144ba9dc3ac1d6df2a480": {
     "model_module": "jupyter-leaflet",
     "model_module_version": "^0.17",
     "model_name": "LeafletMapModel",
     "state": {
      "_dom_classes": [],
      "_model_module": "jupyter-leaflet",
      "_model_module_version": "^0.17",
      "_model_name": "LeafletMapModel",
      "_view_count": null,
      "_view_module": "jupyter-leaflet",
      "_view_module_version": "^0.17",
      "_view_name": "LeafletMapView",
      "bottom": 25050,
      "bounce_at_zoom_limits": true,
      "box_zoom": true,
      "center": [
       40.25437660372652,
       -121.54171224934385
      ],
      "close_popup_on_click": true,
      "controls": [
       "IPY_MODEL_a31f4f833bd8457f9559a38cee02ece2",
       "IPY_MODEL_9832d0cda00146f784811503667d9f6d",
       "IPY_MODEL_2cecb44f2b4840b8a012b3989397bfad",
       "IPY_MODEL_3d53069a8b424385b0f6fb8d1779ff8a",
       "IPY_MODEL_15496c7bb19c49f3ae1f2cc35073a3ea",
       "IPY_MODEL_08094a91886e4229a14fddd03224c3bc",
       "IPY_MODEL_e073295f879442fcbb1ec0ec18ea3adb",
       "IPY_MODEL_efb5c13ce7a546b3a8de0fa82b4e2856",
       "IPY_MODEL_9c0402f8ec1647f996351dc06310a23c",
       "IPY_MODEL_69e7f334cd7e415bb824f05f9af44e0e"
      ],
      "crs": {
       "custom": false,
       "name": "EPSG3857"
      },
      "default_style": "IPY_MODEL_34cbc628077a421ba5d3e8208a122e8f",
      "double_click_zoom": true,
      "dragging": true,
      "dragging_style": "IPY_MODEL_5e11b57f8bea4066b94cc74a5bb0e414",
      "east": -117.09224935871882,
      "fullscreen": false,
      "inertia": true,
      "inertia_deceleration": 3000,
      "inertia_max_speed": 1500,
      "interpolation": "bilinear",
      "keyboard": true,
      "keyboard_pan_offset": 80,
      "keyboard_zoom_offset": 1,
      "layers": [
       "IPY_MODEL_5b7f6805400c4fc5ad4e4be7a00d69d1",
       "IPY_MODEL_73987207ba8843c7812125cabe577c30",
       "IPY_MODEL_ecd3e247c81e4279b5d639ae33078bf1",
       "IPY_MODEL_f5d35cc27b214beb92a3be3440a0a348",
       "IPY_MODEL_2a66371dd09e4ffcaca2d2e7db73a272",
       "IPY_MODEL_1869a58517ec44c08ff547c7ebc431e5",
       "IPY_MODEL_57b04c9c6480484396d83f1934a12e00",
       "IPY_MODEL_f6a54a6f7ce1432abe985ccdca5d0774",
       "IPY_MODEL_502f902a69ae49b389643cb8812e6395",
       "IPY_MODEL_ac7677d76c264c049f4f55e714eed327"
      ],
      "layout": "IPY_MODEL_4e53a823c20340b39aaaf86577c72ffd",
      "left": 9832.006516741674,
      "max_zoom": 24,
      "min_zoom": null,
      "modisdate": "2022-10-13",
      "north": 41.50034959128928,
      "options": [
       "bounce_at_zoom_limits",
       "box_zoom",
       "center",
       "close_popup_on_click",
       "double_click_zoom",
       "dragging",
       "fullscreen",
       "inertia",
       "inertia_deceleration",
       "inertia_max_speed",
       "interpolation",
       "keyboard",
       "keyboard_pan_offset",
       "keyboard_zoom_offset",
       "max_zoom",
       "min_zoom",
       "prefer_canvas",
       "scroll_wheel_zoom",
       "tap",
       "tap_tolerance",
       "touch_zoom",
       "world_copy_jump",
       "zoom",
       "zoom_animation_threshold",
       "zoom_delta",
       "zoom_snap"
      ],
      "panes": {},
      "prefer_canvas": false,
      "right": 11452.006516741674,
      "scroll_wheel_zoom": true,
      "south": 38.98503278695909,
      "style": "IPY_MODEL_34cbc628077a421ba5d3e8208a122e8f",
      "tap": true,
      "tap_tolerance": 15,
      "top": 24450,
      "touch_zoom": true,
      "west": -125.99117513996885,
      "window_url": "https://wbjxjbc53e-496ff2e9c6d22116-0-colab.googleusercontent.com/outputframe.html?vrz=colab-20221011-060057-RC01_480652161",
      "world_copy_jump": false,
      "zoom": 8,
      "zoom_animation_threshold": 4,
      "zoom_delta": 1,
      "zoom_snap": 1
     }
    },
    "11a6483deefd4eebbf808245c8bd5d02": {
     "model_module": "jupyter-leaflet",
     "model_module_version": "^0.17",
     "model_name": "LeafletTileLayerModel",
     "state": {
      "_model_module": "jupyter-leaflet",
      "_model_module_version": "^0.17",
      "_model_name": "LeafletTileLayerModel",
      "_view_count": null,
      "_view_module": "jupyter-leaflet",
      "_view_module_version": "^0.17",
      "_view_name": "LeafletTileLayerView",
      "attribution": "Google Earth Engine",
      "base": false,
      "bottom": true,
      "bounds": null,
      "detect_retina": false,
      "loading": true,
      "max_native_zoom": null,
      "max_zoom": 18,
      "min_native_zoom": null,
      "min_zoom": 0,
      "name": "Drawn Features",
      "no_wrap": false,
      "opacity": 0.5,
      "options": [
       "attribution",
       "bounds",
       "detect_retina",
       "max_native_zoom",
       "max_zoom",
       "min_native_zoom",
       "min_zoom",
       "no_wrap",
       "tile_size",
       "tms",
       "zoom_offset"
      ],
      "pane": "",
      "popup": null,
      "popup_max_height": null,
      "popup_max_width": 300,
      "popup_min_width": 50,
      "show_loading": false,
      "tile_size": 256,
      "tms": false,
      "url": "https://earthengine.googleapis.com/v1alpha/projects/earthengine-legacy/maps/1e224aefa9de83b9c9510ac24c1e0b92-6cdc1fcd0a0f194cdb50570ad201fadd/tiles/{z}/{x}/{y}",
      "visible": false,
      "zoom_offset": 0
     }
    },
    "15496c7bb19c49f3ae1f2cc35073a3ea": {
     "model_module": "jupyter-leaflet",
     "model_module_version": "^0.17",
     "model_name": "LeafletMeasureControlModel",
     "state": {
      "_custom_units": {},
      "_model_module": "jupyter-leaflet",
      "_model_module_version": "^0.17",
      "_model_name": "LeafletMeasureControlModel",
      "_view_count": null,
      "_view_module": "jupyter-leaflet",
      "_view_module_version": "^0.17",
      "_view_name": "LeafletMeasureControlView",
      "active_color": "orange",
      "capture_z_index": 10000,
      "completed_color": "#C8F2BE",
      "options": [
       "active_color",
       "capture_z_index",
       "completed_color",
       "popup_options",
       "position",
       "primary_area_unit",
       "primary_length_unit",
       "secondary_area_unit",
       "secondary_length_unit"
      ],
      "popup_options": {
       "autoPanPadding": [
        10,
        10
       ],
       "className": "leaflet-measure-resultpopup"
      },
      "position": "bottomleft",
      "primary_area_unit": "acres",
      "primary_length_unit": "kilometers",
      "secondary_area_unit": null,
      "secondary_length_unit": null
     }
    },
    "1869a58517ec44c08ff547c7ebc431e5": {
     "model_module": "jupyter-leaflet",
     "model_module_version": "^0.17",
     "model_name": "LeafletTileLayerModel",
     "state": {
      "_model_module": "jupyter-leaflet",
      "_model_module_version": "^0.17",
      "_model_name": "LeafletTileLayerModel",
      "_view_count": null,
      "_view_module": "jupyter-leaflet",
      "_view_module_version": "^0.17",
      "_view_name": "LeafletTileLayerView",
      "attribution": "Google Earth Engine",
      "base": false,
      "bottom": true,
      "bounds": null,
      "detect_retina": false,
      "loading": false,
      "max_native_zoom": null,
      "max_zoom": 24,
      "min_native_zoom": null,
      "min_zoom": 0,
      "name": "forest_ROI",
      "no_wrap": false,
      "opacity": 1,
      "options": [
       "attribution",
       "bounds",
       "detect_retina",
       "max_native_zoom",
       "max_zoom",
       "min_native_zoom",
       "min_zoom",
       "no_wrap",
       "tile_size",
       "tms",
       "zoom_offset"
      ],
      "pane": "",
      "popup": null,
      "popup_max_height": null,
      "popup_max_width": 300,
      "popup_min_width": 50,
      "show_loading": false,
      "tile_size": 256,
      "tms": false,
      "url": "https://earthengine.googleapis.com/v1alpha/projects/earthengine-legacy/maps/9d10d5691d1e12c5e30bd34d7fa2a1f5-e79d1437b7df9b81b3aa695fae575983/tiles/{z}/{x}/{y}",
      "visible": true,
      "zoom_offset": 0
     }
    },
    "1b39cf7e0bd04c41bd1552bcafab8e99": {
     "model_module": "@jupyter-widgets/controls",
     "model_module_version": "1.5.0",
     "model_name": "VBoxModel",
     "state": {
      "_dom_classes": [],
      "_model_module": "@jupyter-widgets/controls",
      "_model_module_version": "1.5.0",
      "_model_name": "VBoxModel",
      "_view_count": null,
      "_view_module": "@jupyter-widgets/controls",
      "_view_module_version": "1.5.0",
      "_view_name": "VBoxView",
      "box_style": "",
      "children": [
       "IPY_MODEL_95bf85b767b44cbdad41a3fb0858f63b"
      ],
      "layout": "IPY_MODEL_729fc2c1628f41fb9c66d53782f7b186"
     }
    },
    "2320cae0e48f4f67a9c434d1b1ba150c": {
     "model_module": "jupyter-leaflet",
     "model_module_version": "^0.17",
     "model_name": "LeafletTileLayerModel",
     "state": {
      "_model_module": "jupyter-leaflet",
      "_model_module_version": "^0.17",
      "_model_name": "LeafletTileLayerModel",
      "_view_count": null,
      "_view_module": "jupyter-leaflet",
      "_view_module_version": "^0.17",
      "_view_name": "LeafletTileLayerView",
      "attribution": "Google Earth Engine",
      "base": false,
      "bottom": true,
      "bounds": null,
      "detect_retina": false,
      "loading": false,
      "max_native_zoom": null,
      "max_zoom": 18,
      "min_native_zoom": null,
      "min_zoom": 0,
      "name": "Drawn Features",
      "no_wrap": false,
      "opacity": 0.5,
      "options": [
       "attribution",
       "bounds",
       "detect_retina",
       "max_native_zoom",
       "max_zoom",
       "min_native_zoom",
       "min_zoom",
       "no_wrap",
       "tile_size",
       "tms",
       "zoom_offset"
      ],
      "pane": "",
      "popup": null,
      "popup_max_height": null,
      "popup_max_width": 300,
      "popup_min_width": 50,
      "show_loading": false,
      "tile_size": 256,
      "tms": false,
      "url": "https://earthengine.googleapis.com/v1alpha/projects/earthengine-legacy/maps/ff75f83f07474003f594a7ac7cfca951-1a78cfe5a4c207a2531d3ffa538c3ace/tiles/{z}/{x}/{y}",
      "visible": false,
      "zoom_offset": 0
     }
    },
    "2385ed8562194a04a590eacb655fd4c0": {
     "model_module": "@jupyter-widgets/base",
     "model_module_version": "1.2.0",
     "model_name": "LayoutModel",
     "state": {
      "_model_module": "@jupyter-widgets/base",
      "_model_module_version": "1.2.0",
      "_model_name": "LayoutModel",
      "_view_count": null,
      "_view_module": "@jupyter-widgets/base",
      "_view_module_version": "1.2.0",
      "_view_name": "LayoutView",
      "align_content": null,
      "align_items": null,
      "align_self": null,
      "border": null,
      "bottom": null,
      "display": null,
      "flex": null,
      "flex_flow": null,
      "grid_area": null,
      "grid_auto_columns": null,
      "grid_auto_flow": null,
      "grid_auto_rows": null,
      "grid_column": null,
      "grid_gap": null,
      "grid_row": null,
      "grid_template_areas": null,
      "grid_template_columns": null,
      "grid_template_rows": null,
      "height": "28px",
      "justify_content": null,
      "justify_items": null,
      "left": null,
      "margin": null,
      "max_height": null,
      "max_width": null,
      "min_height": null,
      "min_width": null,
      "object_fit": null,
      "object_position": null,
      "order": null,
      "overflow": null,
      "overflow_x": null,
      "overflow_y": null,
      "padding": "0px 0px 0px 4px",
      "right": null,
      "top": null,
      "visibility": null,
      "width": "28px"
     }
    },
    "2a66371dd09e4ffcaca2d2e7db73a272": {
     "model_module": "jupyter-leaflet",
     "model_module_version": "^0.17",
     "model_name": "LeafletTileLayerModel",
     "state": {
      "_model_module": "jupyter-leaflet",
      "_model_module_version": "^0.17",
      "_model_name": "LeafletTileLayerModel",
      "_view_count": null,
      "_view_module": "jupyter-leaflet",
      "_view_module_version": "^0.17",
      "_view_name": "LeafletTileLayerView",
      "attribution": "Google Earth Engine",
      "base": false,
      "bottom": true,
      "bounds": null,
      "detect_retina": false,
      "loading": false,
      "max_native_zoom": null,
      "max_zoom": 18,
      "min_native_zoom": null,
      "min_zoom": 0,
      "name": "Drawn Features",
      "no_wrap": false,
      "opacity": 0.5,
      "options": [
       "attribution",
       "bounds",
       "detect_retina",
       "max_native_zoom",
       "max_zoom",
       "min_native_zoom",
       "min_zoom",
       "no_wrap",
       "tile_size",
       "tms",
       "zoom_offset"
      ],
      "pane": "",
      "popup": null,
      "popup_max_height": null,
      "popup_max_width": 300,
      "popup_min_width": 50,
      "show_loading": false,
      "tile_size": 256,
      "tms": false,
      "url": "https://earthengine.googleapis.com/v1alpha/projects/earthengine-legacy/maps/6c1734b75d7c0da0f1901f2c199409b3-ed81de9973d0233179370cec0fe28be5/tiles/{z}/{x}/{y}",
      "visible": false,
      "zoom_offset": 0
     }
    },
    "2cecb44f2b4840b8a012b3989397bfad": {
     "model_module": "jupyter-leaflet",
     "model_module_version": "^0.17",
     "model_name": "LeafletScaleControlModel",
     "state": {
      "_model_module": "jupyter-leaflet",
      "_model_module_version": "^0.17",
      "_model_name": "LeafletScaleControlModel",
      "_view_count": null,
      "_view_module": "jupyter-leaflet",
      "_view_module_version": "^0.17",
      "_view_name": "LeafletScaleControlView",
      "imperial": true,
      "max_width": 100,
      "metric": true,
      "options": [
       "imperial",
       "max_width",
       "metric",
       "position",
       "update_when_idle"
      ],
      "position": "bottomleft",
      "update_when_idle": false
     }
    },
    "33a467b921b04004be24fa9ea3386c85": {
     "model_module": "jupyter-leaflet",
     "model_module_version": "^0.17",
     "model_name": "LeafletTileLayerModel",
     "state": {
      "_model_module": "jupyter-leaflet",
      "_model_module_version": "^0.17",
      "_model_name": "LeafletTileLayerModel",
      "_view_count": null,
      "_view_module": "jupyter-leaflet",
      "_view_module_version": "^0.17",
      "_view_name": "LeafletTileLayerView",
      "attribution": "Google Earth Engine",
      "base": false,
      "bottom": true,
      "bounds": null,
      "detect_retina": false,
      "loading": false,
      "max_native_zoom": null,
      "max_zoom": 18,
      "min_native_zoom": null,
      "min_zoom": 0,
      "name": "Drawn Features",
      "no_wrap": false,
      "opacity": 0.5,
      "options": [
       "attribution",
       "bounds",
       "detect_retina",
       "max_native_zoom",
       "max_zoom",
       "min_native_zoom",
       "min_zoom",
       "no_wrap",
       "tile_size",
       "tms",
       "zoom_offset"
      ],
      "pane": "",
      "popup": null,
      "popup_max_height": null,
      "popup_max_width": 300,
      "popup_min_width": 50,
      "show_loading": false,
      "tile_size": 256,
      "tms": false,
      "url": "https://earthengine.googleapis.com/v1alpha/projects/earthengine-legacy/maps/4459db39cb42dc8ba4837ab78950f7a9-730e54d99bf3ec024fd5d6501082c7c6/tiles/{z}/{x}/{y}",
      "visible": false,
      "zoom_offset": 0
     }
    },
    "34cbc628077a421ba5d3e8208a122e8f": {
     "model_module": "jupyter-leaflet",
     "model_module_version": "^0.17",
     "model_name": "LeafletMapStyleModel",
     "state": {
      "_model_module": "jupyter-leaflet",
      "_model_module_version": "^0.17",
      "_model_name": "LeafletMapStyleModel",
      "_view_count": null,
      "_view_module": "@jupyter-widgets/base",
      "_view_module_version": "1.2.0",
      "_view_name": "StyleView",
      "cursor": "grab"
     }
    },
    "35dd66d2ee164a7b9552f2a614a80542": {
     "model_module": "jupyter-leaflet",
     "model_module_version": "^0.17",
     "model_name": "LeafletTileLayerModel",
     "state": {
      "_model_module": "jupyter-leaflet",
      "_model_module_version": "^0.17",
      "_model_name": "LeafletTileLayerModel",
      "_view_count": null,
      "_view_module": "jupyter-leaflet",
      "_view_module_version": "^0.17",
      "_view_name": "LeafletTileLayerView",
      "attribution": "Google Earth Engine",
      "base": false,
      "bottom": true,
      "bounds": null,
      "detect_retina": false,
      "loading": true,
      "max_native_zoom": null,
      "max_zoom": 18,
      "min_native_zoom": null,
      "min_zoom": 0,
      "name": "Drawn Features",
      "no_wrap": false,
      "opacity": 0.5,
      "options": [
       "attribution",
       "bounds",
       "detect_retina",
       "max_native_zoom",
       "max_zoom",
       "min_native_zoom",
       "min_zoom",
       "no_wrap",
       "tile_size",
       "tms",
       "zoom_offset"
      ],
      "pane": "",
      "popup": null,
      "popup_max_height": null,
      "popup_max_width": 300,
      "popup_min_width": 50,
      "show_loading": false,
      "tile_size": 256,
      "tms": false,
      "url": "https://earthengine.googleapis.com/v1alpha/projects/earthengine-legacy/maps/abb19afba3e4f7ce083314ea9e5f0b81-6f646e2d9d6479818f4aa641f70c5b3b/tiles/{z}/{x}/{y}",
      "visible": false,
      "zoom_offset": 0
     }
    },
    "3d53069a8b424385b0f6fb8d1779ff8a": {
     "model_module": "jupyter-leaflet",
     "model_module_version": "^0.17",
     "model_name": "LeafletFullScreenControlModel",
     "state": {
      "_model_module": "jupyter-leaflet",
      "_model_module_version": "^0.17",
      "_model_name": "LeafletFullScreenControlModel",
      "_view_count": null,
      "_view_module": "jupyter-leaflet",
      "_view_module_version": "^0.17",
      "_view_name": "LeafletFullScreenControlView",
      "options": [
       "position"
      ],
      "position": "topleft"
     }
    },
    "4cf2b72148bb46b5ba42403d4b4e5e2f": {
     "model_module": "jupyter-leaflet",
     "model_module_version": "^0.17",
     "model_name": "LeafletTileLayerModel",
     "state": {
      "_model_module": "jupyter-leaflet",
      "_model_module_version": "^0.17",
      "_model_name": "LeafletTileLayerModel",
      "_view_count": null,
      "_view_module": "jupyter-leaflet",
      "_view_module_version": "^0.17",
      "_view_name": "LeafletTileLayerView",
      "attribution": "Google Earth Engine",
      "base": false,
      "bottom": true,
      "bounds": null,
      "detect_retina": false,
      "loading": true,
      "max_native_zoom": null,
      "max_zoom": 18,
      "min_native_zoom": null,
      "min_zoom": 0,
      "name": "Drawn Features",
      "no_wrap": false,
      "opacity": 0.5,
      "options": [
       "attribution",
       "bounds",
       "detect_retina",
       "max_native_zoom",
       "max_zoom",
       "min_native_zoom",
       "min_zoom",
       "no_wrap",
       "tile_size",
       "tms",
       "zoom_offset"
      ],
      "pane": "",
      "popup": null,
      "popup_max_height": null,
      "popup_max_width": 300,
      "popup_min_width": 50,
      "show_loading": false,
      "tile_size": 256,
      "tms": false,
      "url": "https://earthengine.googleapis.com/v1alpha/projects/earthengine-legacy/maps/737eceed1f476210e1eb4d962d0cce55-963f82e95fb10f63faf6d06debae7a51/tiles/{z}/{x}/{y}",
      "visible": false,
      "zoom_offset": 0
     }
    },
    "4d367f6e28694a51b9c831e1b09c511a": {
     "model_module": "jupyter-leaflet",
     "model_module_version": "^0.17",
     "model_name": "LeafletTileLayerModel",
     "state": {
      "_model_module": "jupyter-leaflet",
      "_model_module_version": "^0.17",
      "_model_name": "LeafletTileLayerModel",
      "_view_count": null,
      "_view_module": "jupyter-leaflet",
      "_view_module_version": "^0.17",
      "_view_name": "LeafletTileLayerView",
      "attribution": "Google Earth Engine",
      "base": false,
      "bottom": true,
      "bounds": null,
      "detect_retina": false,
      "loading": true,
      "max_native_zoom": null,
      "max_zoom": 18,
      "min_native_zoom": null,
      "min_zoom": 0,
      "name": "Drawn Features",
      "no_wrap": false,
      "opacity": 0.5,
      "options": [
       "attribution",
       "bounds",
       "detect_retina",
       "max_native_zoom",
       "max_zoom",
       "min_native_zoom",
       "min_zoom",
       "no_wrap",
       "tile_size",
       "tms",
       "zoom_offset"
      ],
      "pane": "",
      "popup": null,
      "popup_max_height": null,
      "popup_max_width": 300,
      "popup_min_width": 50,
      "show_loading": false,
      "tile_size": 256,
      "tms": false,
      "url": "https://earthengine.googleapis.com/v1alpha/projects/earthengine-legacy/maps/4084b60bfcd1df701fcc95f5e3a5a0f4-5d7630a456cd13721e0556af605cce0a/tiles/{z}/{x}/{y}",
      "visible": false,
      "zoom_offset": 0
     }
    },
    "4d96c0cc37a1488c8c767eb451b03e94": {
     "model_module": "@jupyter-widgets/controls",
     "model_module_version": "1.5.0",
     "model_name": "DescriptionStyleModel",
     "state": {
      "_model_module": "@jupyter-widgets/controls",
      "_model_module_version": "1.5.0",
      "_model_name": "DescriptionStyleModel",
      "_view_count": null,
      "_view_module": "@jupyter-widgets/base",
      "_view_module_version": "1.2.0",
      "_view_name": "StyleView",
      "description_width": ""
     }
    },
    "4e53a823c20340b39aaaf86577c72ffd": {
     "model_module": "@jupyter-widgets/base",
     "model_module_version": "1.2.0",
     "model_name": "LayoutModel",
     "state": {
      "_model_module": "@jupyter-widgets/base",
      "_model_module_version": "1.2.0",
      "_model_name": "LayoutModel",
      "_view_count": null,
      "_view_module": "@jupyter-widgets/base",
      "_view_module_version": "1.2.0",
      "_view_name": "LayoutView",
      "align_content": null,
      "align_items": null,
      "align_self": null,
      "border": null,
      "bottom": null,
      "display": null,
      "flex": null,
      "flex_flow": null,
      "grid_area": null,
      "grid_auto_columns": null,
      "grid_auto_flow": null,
      "grid_auto_rows": null,
      "grid_column": null,
      "grid_gap": null,
      "grid_row": null,
      "grid_template_areas": null,
      "grid_template_columns": null,
      "grid_template_rows": null,
      "height": "600px",
      "justify_content": null,
      "justify_items": null,
      "left": null,
      "margin": null,
      "max_height": null,
      "max_width": null,
      "min_height": null,
      "min_width": null,
      "object_fit": null,
      "object_position": null,
      "order": null,
      "overflow": null,
      "overflow_x": null,
      "overflow_y": null,
      "padding": null,
      "right": null,
      "top": null,
      "visibility": null,
      "width": null
     }
    },
    "502f902a69ae49b389643cb8812e6395": {
     "model_module": "jupyter-leaflet",
     "model_module_version": "^0.17",
     "model_name": "LeafletTileLayerModel",
     "state": {
      "_model_module": "jupyter-leaflet",
      "_model_module_version": "^0.17",
      "_model_name": "LeafletTileLayerModel",
      "_view_count": null,
      "_view_module": "jupyter-leaflet",
      "_view_module_version": "^0.17",
      "_view_name": "LeafletTileLayerView",
      "attribution": "Google Earth Engine",
      "base": false,
      "bottom": true,
      "bounds": null,
      "detect_retina": false,
      "loading": false,
      "max_native_zoom": null,
      "max_zoom": 24,
      "min_native_zoom": null,
      "min_zoom": 0,
      "name": "non-forest_1",
      "no_wrap": false,
      "opacity": 1,
      "options": [
       "attribution",
       "bounds",
       "detect_retina",
       "max_native_zoom",
       "max_zoom",
       "min_native_zoom",
       "min_zoom",
       "no_wrap",
       "tile_size",
       "tms",
       "zoom_offset"
      ],
      "pane": "",
      "popup": null,
      "popup_max_height": null,
      "popup_max_width": 300,
      "popup_min_width": 50,
      "show_loading": false,
      "tile_size": 256,
      "tms": false,
      "url": "https://earthengine.googleapis.com/v1alpha/projects/earthengine-legacy/maps/582d7fd4c64ce10c98bd6dd945e6fe40-bb1a4185e907b1624ba1b12b37cc1304/tiles/{z}/{x}/{y}",
      "visible": true,
      "zoom_offset": 0
     }
    },
    "50368147fb4a4bb8a6c534356d666f9a": {
     "model_module": "@jupyter-widgets/base",
     "model_module_version": "1.2.0",
     "model_name": "LayoutModel",
     "state": {
      "_model_module": "@jupyter-widgets/base",
      "_model_module_version": "1.2.0",
      "_model_name": "LayoutModel",
      "_view_count": null,
      "_view_module": "@jupyter-widgets/base",
      "_view_module_version": "1.2.0",
      "_view_name": "LayoutView",
      "align_content": null,
      "align_items": null,
      "align_self": null,
      "border": null,
      "bottom": null,
      "display": null,
      "flex": null,
      "flex_flow": null,
      "grid_area": null,
      "grid_auto_columns": null,
      "grid_auto_flow": null,
      "grid_auto_rows": null,
      "grid_column": null,
      "grid_gap": null,
      "grid_row": null,
      "grid_template_areas": null,
      "grid_template_columns": null,
      "grid_template_rows": null,
      "height": null,
      "justify_content": null,
      "justify_items": null,
      "left": null,
      "margin": null,
      "max_height": "400px",
      "max_width": "300px",
      "min_height": null,
      "min_width": null,
      "object_fit": null,
      "object_position": null,
      "order": null,
      "overflow": "scroll",
      "overflow_x": null,
      "overflow_y": null,
      "padding": null,
      "right": null,
      "top": null,
      "visibility": null,
      "width": null
     }
    },
    "53dc1a285f804f5caa982de64d795708": {
     "model_module": "jupyter-leaflet",
     "model_module_version": "^0.17",
     "model_name": "LeafletTileLayerModel",
     "state": {
      "_model_module": "jupyter-leaflet",
      "_model_module_version": "^0.17",
      "_model_name": "LeafletTileLayerModel",
      "_view_count": null,
      "_view_module": "jupyter-leaflet",
      "_view_module_version": "^0.17",
      "_view_name": "LeafletTileLayerView",
      "attribution": "Google Earth Engine",
      "base": false,
      "bottom": true,
      "bounds": null,
      "detect_retina": false,
      "loading": true,
      "max_native_zoom": null,
      "max_zoom": 18,
      "min_native_zoom": null,
      "min_zoom": 0,
      "name": "Drawn Features",
      "no_wrap": false,
      "opacity": 0.5,
      "options": [
       "attribution",
       "bounds",
       "detect_retina",
       "max_native_zoom",
       "max_zoom",
       "min_native_zoom",
       "min_zoom",
       "no_wrap",
       "tile_size",
       "tms",
       "zoom_offset"
      ],
      "pane": "",
      "popup": null,
      "popup_max_height": null,
      "popup_max_width": 300,
      "popup_min_width": 50,
      "show_loading": false,
      "tile_size": 256,
      "tms": false,
      "url": "https://earthengine.googleapis.com/v1alpha/projects/earthengine-legacy/maps/a30074e4af766cd9ab9195ee8fb67d49-6a5786c5c95081c7dafe2dae5ba0d475/tiles/{z}/{x}/{y}",
      "visible": false,
      "zoom_offset": 0
     }
    },
    "57b04c9c6480484396d83f1934a12e00": {
     "model_module": "jupyter-leaflet",
     "model_module_version": "^0.17",
     "model_name": "LeafletTileLayerModel",
     "state": {
      "_model_module": "jupyter-leaflet",
      "_model_module_version": "^0.17",
      "_model_name": "LeafletTileLayerModel",
      "_view_count": null,
      "_view_module": "jupyter-leaflet",
      "_view_module_version": "^0.17",
      "_view_name": "LeafletTileLayerView",
      "attribution": "Google Earth Engine",
      "base": false,
      "bottom": true,
      "bounds": null,
      "detect_retina": false,
      "loading": false,
      "max_native_zoom": null,
      "max_zoom": 24,
      "min_native_zoom": null,
      "min_zoom": 0,
      "name": "non_forest_ROI",
      "no_wrap": false,
      "opacity": 1,
      "options": [
       "attribution",
       "bounds",
       "detect_retina",
       "max_native_zoom",
       "max_zoom",
       "min_native_zoom",
       "min_zoom",
       "no_wrap",
       "tile_size",
       "tms",
       "zoom_offset"
      ],
      "pane": "",
      "popup": null,
      "popup_max_height": null,
      "popup_max_width": 300,
      "popup_min_width": 50,
      "show_loading": false,
      "tile_size": 256,
      "tms": false,
      "url": "https://earthengine.googleapis.com/v1alpha/projects/earthengine-legacy/maps/f7b991862c9967328ed1e427f566af64-42572c922b3ddb660d658beece2dd220/tiles/{z}/{x}/{y}",
      "visible": true,
      "zoom_offset": 0
     }
    },
    "57b4a9eb9e1a45f5878331251e133069": {
     "model_module": "@jupyter-widgets/base",
     "model_module_version": "1.2.0",
     "model_name": "LayoutModel",
     "state": {
      "_model_module": "@jupyter-widgets/base",
      "_model_module_version": "1.2.0",
      "_model_name": "LayoutModel",
      "_view_count": null,
      "_view_module": "@jupyter-widgets/base",
      "_view_module_version": "1.2.0",
      "_view_name": "LayoutView",
      "align_content": null,
      "align_items": null,
      "align_self": null,
      "border": null,
      "bottom": null,
      "display": null,
      "flex": null,
      "flex_flow": null,
      "grid_area": null,
      "grid_auto_columns": null,
      "grid_auto_flow": null,
      "grid_auto_rows": null,
      "grid_column": null,
      "grid_gap": null,
      "grid_row": null,
      "grid_template_areas": null,
      "grid_template_columns": null,
      "grid_template_rows": null,
      "height": null,
      "justify_content": null,
      "justify_items": null,
      "left": null,
      "margin": null,
      "max_height": null,
      "max_width": null,
      "min_height": null,
      "min_width": null,
      "object_fit": null,
      "object_position": null,
      "order": null,
      "overflow": null,
      "overflow_x": null,
      "overflow_y": null,
      "padding": null,
      "right": null,
      "top": null,
      "visibility": null,
      "width": null
     }
    },
    "5b7f6805400c4fc5ad4e4be7a00d69d1": {
     "model_module": "jupyter-leaflet",
     "model_module_version": "^0.17",
     "model_name": "LeafletTileLayerModel",
     "state": {
      "_model_module": "jupyter-leaflet",
      "_model_module_version": "^0.17",
      "_model_name": "LeafletTileLayerModel",
      "_view_count": null,
      "_view_module": "jupyter-leaflet",
      "_view_module_version": "^0.17",
      "_view_name": "LeafletTileLayerView",
      "attribution": "&copy; <a href=\"https://www.openstreetmap.org/copyright\">OpenStreetMap</a> contributors",
      "base": true,
      "bottom": true,
      "bounds": null,
      "detect_retina": false,
      "loading": false,
      "max_native_zoom": null,
      "max_zoom": 19,
      "min_native_zoom": null,
      "min_zoom": 1,
      "name": "OpenStreetMap.Mapnik",
      "no_wrap": false,
      "opacity": 1,
      "options": [
       "attribution",
       "bounds",
       "detect_retina",
       "max_native_zoom",
       "max_zoom",
       "min_native_zoom",
       "min_zoom",
       "no_wrap",
       "tile_size",
       "tms",
       "zoom_offset"
      ],
      "pane": "",
      "popup": null,
      "popup_max_height": null,
      "popup_max_width": 300,
      "popup_min_width": 50,
      "show_loading": false,
      "tile_size": 256,
      "tms": false,
      "url": "https://tile.openstreetmap.org/{z}/{x}/{y}.png",
      "visible": true,
      "zoom_offset": 0
     }
    },
    "5e11b57f8bea4066b94cc74a5bb0e414": {
     "model_module": "jupyter-leaflet",
     "model_module_version": "^0.17",
     "model_name": "LeafletMapStyleModel",
     "state": {
      "_model_module": "jupyter-leaflet",
      "_model_module_version": "^0.17",
      "_model_name": "LeafletMapStyleModel",
      "_view_count": null,
      "_view_module": "@jupyter-widgets/base",
      "_view_module_version": "1.2.0",
      "_view_name": "StyleView",
      "cursor": "move"
     }
    },
    "69e7f334cd7e415bb824f05f9af44e0e": {
     "model_module": "jupyter-leaflet",
     "model_module_version": "^0.17",
     "model_name": "LeafletWidgetControlModel",
     "state": {
      "_model_module": "jupyter-leaflet",
      "_model_module_version": "^0.17",
      "_model_name": "LeafletWidgetControlModel",
      "_view_count": null,
      "_view_module": "jupyter-leaflet",
      "_view_module_version": "^0.17",
      "_view_name": "LeafletWidgetControlView",
      "max_height": null,
      "max_width": null,
      "min_height": null,
      "min_width": null,
      "options": [
       "position",
       "transparent_bg"
      ],
      "position": "bottomright",
      "transparent_bg": false,
      "widget": "IPY_MODEL_cc819c4d513c464b9e7509504932be7f"
     }
    },
    "6c38f414be324a07a241cd20940c2bdf": {
     "model_module": "jupyter-leaflet",
     "model_module_version": "^0.17",
     "model_name": "LeafletTileLayerModel",
     "state": {
      "_model_module": "jupyter-leaflet",
      "_model_module_version": "^0.17",
      "_model_name": "LeafletTileLayerModel",
      "_view_count": null,
      "_view_module": "jupyter-leaflet",
      "_view_module_version": "^0.17",
      "_view_name": "LeafletTileLayerView",
      "attribution": "Google Earth Engine",
      "base": false,
      "bottom": true,
      "bounds": null,
      "detect_retina": false,
      "loading": true,
      "max_native_zoom": null,
      "max_zoom": 18,
      "min_native_zoom": null,
      "min_zoom": 0,
      "name": "Drawn Features",
      "no_wrap": false,
      "opacity": 0.5,
      "options": [
       "attribution",
       "bounds",
       "detect_retina",
       "max_native_zoom",
       "max_zoom",
       "min_native_zoom",
       "min_zoom",
       "no_wrap",
       "tile_size",
       "tms",
       "zoom_offset"
      ],
      "pane": "",
      "popup": null,
      "popup_max_height": null,
      "popup_max_width": 300,
      "popup_min_width": 50,
      "show_loading": false,
      "tile_size": 256,
      "tms": false,
      "url": "https://earthengine.googleapis.com/v1alpha/projects/earthengine-legacy/maps/bb7e3b75ef52570329504241234ddf3b-80452705cc9b2450695e076cd8ea70cf/tiles/{z}/{x}/{y}",
      "visible": false,
      "zoom_offset": 0
     }
    },
    "729fc2c1628f41fb9c66d53782f7b186": {
     "model_module": "@jupyter-widgets/base",
     "model_module_version": "1.2.0",
     "model_name": "LayoutModel",
     "state": {
      "_model_module": "@jupyter-widgets/base",
      "_model_module_version": "1.2.0",
      "_model_name": "LayoutModel",
      "_view_count": null,
      "_view_module": "@jupyter-widgets/base",
      "_view_module_version": "1.2.0",
      "_view_name": "LayoutView",
      "align_content": null,
      "align_items": null,
      "align_self": null,
      "border": null,
      "bottom": null,
      "display": null,
      "flex": null,
      "flex_flow": null,
      "grid_area": null,
      "grid_auto_columns": null,
      "grid_auto_flow": null,
      "grid_auto_rows": null,
      "grid_column": null,
      "grid_gap": null,
      "grid_row": null,
      "grid_template_areas": null,
      "grid_template_columns": null,
      "grid_template_rows": null,
      "height": null,
      "justify_content": null,
      "justify_items": null,
      "left": null,
      "margin": null,
      "max_height": null,
      "max_width": null,
      "min_height": null,
      "min_width": null,
      "object_fit": null,
      "object_position": null,
      "order": null,
      "overflow": null,
      "overflow_x": null,
      "overflow_y": null,
      "padding": null,
      "right": null,
      "top": null,
      "visibility": null,
      "width": null
     }
    },
    "73987207ba8843c7812125cabe577c30": {
     "model_module": "jupyter-leaflet",
     "model_module_version": "^0.17",
     "model_name": "LeafletTileLayerModel",
     "state": {
      "_model_module": "jupyter-leaflet",
      "_model_module_version": "^0.17",
      "_model_name": "LeafletTileLayerModel",
      "_view_count": null,
      "_view_module": "jupyter-leaflet",
      "_view_module_version": "^0.17",
      "_view_name": "LeafletTileLayerView",
      "attribution": "Google",
      "base": false,
      "bottom": true,
      "bounds": null,
      "detect_retina": false,
      "loading": false,
      "max_native_zoom": null,
      "max_zoom": 22,
      "min_native_zoom": null,
      "min_zoom": 0,
      "name": "Google Maps",
      "no_wrap": false,
      "opacity": 1,
      "options": [
       "attribution",
       "bounds",
       "detect_retina",
       "max_native_zoom",
       "max_zoom",
       "min_native_zoom",
       "min_zoom",
       "no_wrap",
       "tile_size",
       "tms",
       "zoom_offset"
      ],
      "pane": "",
      "popup": null,
      "popup_max_height": null,
      "popup_max_width": 300,
      "popup_min_width": 50,
      "show_loading": false,
      "tile_size": 256,
      "tms": false,
      "url": "https://mt1.google.com/vt/lyrs=m&x={x}&y={y}&z={z}",
      "visible": true,
      "zoom_offset": 0
     }
    },
    "780b2858931c4636bafe45ceeed723e4": {
     "model_module": "jupyter-leaflet",
     "model_module_version": "^0.17",
     "model_name": "LeafletTileLayerModel",
     "state": {
      "_model_module": "jupyter-leaflet",
      "_model_module_version": "^0.17",
      "_model_name": "LeafletTileLayerModel",
      "_view_count": null,
      "_view_module": "jupyter-leaflet",
      "_view_module_version": "^0.17",
      "_view_name": "LeafletTileLayerView",
      "attribution": "Google Earth Engine",
      "base": false,
      "bottom": true,
      "bounds": null,
      "detect_retina": false,
      "loading": true,
      "max_native_zoom": null,
      "max_zoom": 18,
      "min_native_zoom": null,
      "min_zoom": 0,
      "name": "Drawn Features",
      "no_wrap": false,
      "opacity": 0.5,
      "options": [
       "attribution",
       "bounds",
       "detect_retina",
       "max_native_zoom",
       "max_zoom",
       "min_native_zoom",
       "min_zoom",
       "no_wrap",
       "tile_size",
       "tms",
       "zoom_offset"
      ],
      "pane": "",
      "popup": null,
      "popup_max_height": null,
      "popup_max_width": 300,
      "popup_min_width": 50,
      "show_loading": false,
      "tile_size": 256,
      "tms": false,
      "url": "https://earthengine.googleapis.com/v1alpha/projects/earthengine-legacy/maps/88e99b05610e17522d6626f8a26f0edd-340d07bfec70cc96aca1e8994d59867d/tiles/{z}/{x}/{y}",
      "visible": false,
      "zoom_offset": 0
     }
    },
    "82441b8b69d44263bb6c25109b2f1c75": {
     "model_module": "@jupyter-widgets/base",
     "model_module_version": "1.2.0",
     "model_name": "LayoutModel",
     "state": {
      "_model_module": "@jupyter-widgets/base",
      "_model_module_version": "1.2.0",
      "_model_name": "LayoutModel",
      "_view_count": null,
      "_view_module": "@jupyter-widgets/base",
      "_view_module_version": "1.2.0",
      "_view_name": "LayoutView",
      "align_content": null,
      "align_items": null,
      "align_self": null,
      "border": null,
      "bottom": null,
      "display": null,
      "flex": null,
      "flex_flow": null,
      "grid_area": null,
      "grid_auto_columns": null,
      "grid_auto_flow": null,
      "grid_auto_rows": null,
      "grid_column": null,
      "grid_gap": null,
      "grid_row": null,
      "grid_template_areas": null,
      "grid_template_columns": null,
      "grid_template_rows": null,
      "height": null,
      "justify_content": null,
      "justify_items": null,
      "left": null,
      "margin": null,
      "max_height": null,
      "max_width": null,
      "min_height": null,
      "min_width": null,
      "object_fit": null,
      "object_position": null,
      "order": null,
      "overflow": null,
      "overflow_x": null,
      "overflow_y": null,
      "padding": null,
      "right": null,
      "top": null,
      "visibility": null,
      "width": null
     }
    },
    "8b6c4a5c08a2467ab01a41813a9daf35": {
     "model_module": "jupyter-leaflet",
     "model_module_version": "^0.17",
     "model_name": "LeafletTileLayerModel",
     "state": {
      "_model_module": "jupyter-leaflet",
      "_model_module_version": "^0.17",
      "_model_name": "LeafletTileLayerModel",
      "_view_count": null,
      "_view_module": "jupyter-leaflet",
      "_view_module_version": "^0.17",
      "_view_name": "LeafletTileLayerView",
      "attribution": "Google Earth Engine",
      "base": false,
      "bottom": true,
      "bounds": null,
      "detect_retina": false,
      "loading": true,
      "max_native_zoom": null,
      "max_zoom": 18,
      "min_native_zoom": null,
      "min_zoom": 0,
      "name": "Drawn Features",
      "no_wrap": false,
      "opacity": 0.5,
      "options": [
       "attribution",
       "bounds",
       "detect_retina",
       "max_native_zoom",
       "max_zoom",
       "min_native_zoom",
       "min_zoom",
       "no_wrap",
       "tile_size",
       "tms",
       "zoom_offset"
      ],
      "pane": "",
      "popup": null,
      "popup_max_height": null,
      "popup_max_width": 300,
      "popup_min_width": 50,
      "show_loading": false,
      "tile_size": 256,
      "tms": false,
      "url": "https://earthengine.googleapis.com/v1alpha/projects/earthengine-legacy/maps/cc825ecd1566e34a13bca1ff9bd44dcc-08beecf7c8976cf03d9912d16106be7e/tiles/{z}/{x}/{y}",
      "visible": false,
      "zoom_offset": 0
     }
    },
    "8f61f74d59e64a56ad59eb4d37991ad1": {
     "model_module": "jupyter-leaflet",
     "model_module_version": "^0.17",
     "model_name": "LeafletTileLayerModel",
     "state": {
      "_model_module": "jupyter-leaflet",
      "_model_module_version": "^0.17",
      "_model_name": "LeafletTileLayerModel",
      "_view_count": null,
      "_view_module": "jupyter-leaflet",
      "_view_module_version": "^0.17",
      "_view_name": "LeafletTileLayerView",
      "attribution": "Google Earth Engine",
      "base": false,
      "bottom": true,
      "bounds": null,
      "detect_retina": false,
      "loading": true,
      "max_native_zoom": null,
      "max_zoom": 18,
      "min_native_zoom": null,
      "min_zoom": 0,
      "name": "Drawn Features",
      "no_wrap": false,
      "opacity": 0.5,
      "options": [
       "attribution",
       "bounds",
       "detect_retina",
       "max_native_zoom",
       "max_zoom",
       "min_native_zoom",
       "min_zoom",
       "no_wrap",
       "tile_size",
       "tms",
       "zoom_offset"
      ],
      "pane": "",
      "popup": null,
      "popup_max_height": null,
      "popup_max_width": 300,
      "popup_min_width": 50,
      "show_loading": false,
      "tile_size": 256,
      "tms": false,
      "url": "https://earthengine.googleapis.com/v1alpha/projects/earthengine-legacy/maps/17615731f5b1335dea832937ac6155fb-77a01862a080afaec29619ef05e5a701/tiles/{z}/{x}/{y}",
      "visible": false,
      "zoom_offset": 0
     }
    },
    "952e424aa1d84e2daeafe1368181dda6": {
     "model_module": "jupyter-leaflet",
     "model_module_version": "^0.17",
     "model_name": "LeafletTileLayerModel",
     "state": {
      "_model_module": "jupyter-leaflet",
      "_model_module_version": "^0.17",
      "_model_name": "LeafletTileLayerModel",
      "_view_count": null,
      "_view_module": "jupyter-leaflet",
      "_view_module_version": "^0.17",
      "_view_name": "LeafletTileLayerView",
      "attribution": "Google Earth Engine",
      "base": false,
      "bottom": true,
      "bounds": null,
      "detect_retina": false,
      "loading": true,
      "max_native_zoom": null,
      "max_zoom": 18,
      "min_native_zoom": null,
      "min_zoom": 0,
      "name": "Drawn Features",
      "no_wrap": false,
      "opacity": 0.5,
      "options": [
       "attribution",
       "bounds",
       "detect_retina",
       "max_native_zoom",
       "max_zoom",
       "min_native_zoom",
       "min_zoom",
       "no_wrap",
       "tile_size",
       "tms",
       "zoom_offset"
      ],
      "pane": "",
      "popup": null,
      "popup_max_height": null,
      "popup_max_width": 300,
      "popup_min_width": 50,
      "show_loading": false,
      "tile_size": 256,
      "tms": false,
      "url": "https://earthengine.googleapis.com/v1alpha/projects/earthengine-legacy/maps/c9a9dc3c7c2601fb59b466f2f19e707b-b3014648b06767dc1f9d405ca0e26151/tiles/{z}/{x}/{y}",
      "visible": false,
      "zoom_offset": 0
     }
    },
    "95bf85b767b44cbdad41a3fb0858f63b": {
     "model_module": "@jupyter-widgets/controls",
     "model_module_version": "1.5.0",
     "model_name": "ToggleButtonModel",
     "state": {
      "_dom_classes": [],
      "_model_module": "@jupyter-widgets/controls",
      "_model_module_version": "1.5.0",
      "_model_name": "ToggleButtonModel",
      "_view_count": null,
      "_view_module": "@jupyter-widgets/controls",
      "_view_module_version": "1.5.0",
      "_view_name": "ToggleButtonView",
      "button_style": "",
      "description": "",
      "description_tooltip": null,
      "disabled": false,
      "icon": "wrench",
      "layout": "IPY_MODEL_ada570fd1d13408495f33c622f327106",
      "style": "IPY_MODEL_d51aa31aa35b42b4aac727911084f495",
      "tooltip": "Toolbar",
      "value": false
     }
    },
    "9832d0cda00146f784811503667d9f6d": {
     "model_module": "jupyter-leaflet",
     "model_module_version": "^0.17",
     "model_name": "LeafletZoomControlModel",
     "state": {
      "_model_module": "jupyter-leaflet",
      "_model_module_version": "^0.17",
      "_model_name": "LeafletZoomControlModel",
      "_view_count": null,
      "_view_module": "jupyter-leaflet",
      "_view_module_version": "^0.17",
      "_view_name": "LeafletZoomControlView",
      "options": [
       "position",
       "zoom_in_text",
       "zoom_in_title",
       "zoom_out_text",
       "zoom_out_title"
      ],
      "position": "topleft",
      "zoom_in_text": "+",
      "zoom_in_title": "Zoom in",
      "zoom_out_text": "-",
      "zoom_out_title": "Zoom out"
     }
    },
    "9b74aa6639944c0e9ab6dc20afb38329": {
     "model_module": "@jupyter-widgets/controls",
     "model_module_version": "1.5.0",
     "model_name": "DescriptionStyleModel",
     "state": {
      "_model_module": "@jupyter-widgets/controls",
      "_model_module_version": "1.5.0",
      "_model_name": "DescriptionStyleModel",
      "_view_count": null,
      "_view_module": "@jupyter-widgets/base",
      "_view_module_version": "1.2.0",
      "_view_name": "StyleView",
      "description_width": ""
     }
    },
    "9c0402f8ec1647f996351dc06310a23c": {
     "model_module": "jupyter-leaflet",
     "model_module_version": "^0.17",
     "model_name": "LeafletLayersControlModel",
     "state": {
      "_model_module": "jupyter-leaflet",
      "_model_module_version": "^0.17",
      "_model_name": "LeafletLayersControlModel",
      "_view_count": null,
      "_view_module": "jupyter-leaflet",
      "_view_module_version": "^0.17",
      "_view_name": "LeafletLayersControlView",
      "options": [
       "position"
      ],
      "position": "topright"
     }
    },
    "9fce1364a90e4257bd1eaac0f7d2fd34": {
     "model_module": "jupyter-leaflet",
     "model_module_version": "^0.17",
     "model_name": "LeafletTileLayerModel",
     "state": {
      "_model_module": "jupyter-leaflet",
      "_model_module_version": "^0.17",
      "_model_name": "LeafletTileLayerModel",
      "_view_count": null,
      "_view_module": "jupyter-leaflet",
      "_view_module_version": "^0.17",
      "_view_name": "LeafletTileLayerView",
      "attribution": "Google Earth Engine",
      "base": false,
      "bottom": true,
      "bounds": null,
      "detect_retina": false,
      "loading": true,
      "max_native_zoom": null,
      "max_zoom": 18,
      "min_native_zoom": null,
      "min_zoom": 0,
      "name": "Drawn Features",
      "no_wrap": false,
      "opacity": 0.5,
      "options": [
       "attribution",
       "bounds",
       "detect_retina",
       "max_native_zoom",
       "max_zoom",
       "min_native_zoom",
       "min_zoom",
       "no_wrap",
       "tile_size",
       "tms",
       "zoom_offset"
      ],
      "pane": "",
      "popup": null,
      "popup_max_height": null,
      "popup_max_width": 300,
      "popup_min_width": 50,
      "show_loading": false,
      "tile_size": 256,
      "tms": false,
      "url": "https://earthengine.googleapis.com/v1alpha/projects/earthengine-legacy/maps/0a8963af06b0ac033a11de6e9ab07655-07bb83859dc1de2bcf8f845dbb9a4c99/tiles/{z}/{x}/{y}",
      "visible": false,
      "zoom_offset": 0
     }
    },
    "a31f4f833bd8457f9559a38cee02ece2": {
     "model_module": "jupyter-leaflet",
     "model_module_version": "^0.17",
     "model_name": "LeafletWidgetControlModel",
     "state": {
      "_model_module": "jupyter-leaflet",
      "_model_module_version": "^0.17",
      "_model_name": "LeafletWidgetControlModel",
      "_view_count": null,
      "_view_module": "jupyter-leaflet",
      "_view_module_version": "^0.17",
      "_view_name": "LeafletWidgetControlView",
      "max_height": null,
      "max_width": null,
      "min_height": null,
      "min_width": null,
      "options": [
       "position",
       "transparent_bg"
      ],
      "position": "topleft",
      "transparent_bg": false,
      "widget": "IPY_MODEL_bfe7b4c5ff734cab940e48bbad3e9b0d"
     }
    },
    "a58eff86aee740c7b0c319b07fc40ce1": {
     "model_module": "jupyter-leaflet",
     "model_module_version": "^0.17",
     "model_name": "LeafletTileLayerModel",
     "state": {
      "_model_module": "jupyter-leaflet",
      "_model_module_version": "^0.17",
      "_model_name": "LeafletTileLayerModel",
      "_view_count": null,
      "_view_module": "jupyter-leaflet",
      "_view_module_version": "^0.17",
      "_view_name": "LeafletTileLayerView",
      "attribution": "Google Earth Engine",
      "base": false,
      "bottom": true,
      "bounds": null,
      "detect_retina": false,
      "loading": true,
      "max_native_zoom": null,
      "max_zoom": 18,
      "min_native_zoom": null,
      "min_zoom": 0,
      "name": "Drawn Features",
      "no_wrap": false,
      "opacity": 0.5,
      "options": [
       "attribution",
       "bounds",
       "detect_retina",
       "max_native_zoom",
       "max_zoom",
       "min_native_zoom",
       "min_zoom",
       "no_wrap",
       "tile_size",
       "tms",
       "zoom_offset"
      ],
      "pane": "",
      "popup": null,
      "popup_max_height": null,
      "popup_max_width": 300,
      "popup_min_width": 50,
      "show_loading": false,
      "tile_size": 256,
      "tms": false,
      "url": "https://earthengine.googleapis.com/v1alpha/projects/earthengine-legacy/maps/8863e56de4aff45d90fad85fe6db3691-f0fd699cb4b97071b266aca1efdd8c53/tiles/{z}/{x}/{y}",
      "visible": false,
      "zoom_offset": 0
     }
    },
    "ac7677d76c264c049f4f55e714eed327": {
     "model_module": "jupyter-leaflet",
     "model_module_version": "^0.17",
     "model_name": "LeafletTileLayerModel",
     "state": {
      "_model_module": "jupyter-leaflet",
      "_model_module_version": "^0.17",
      "_model_name": "LeafletTileLayerModel",
      "_view_count": null,
      "_view_module": "jupyter-leaflet",
      "_view_module_version": "^0.17",
      "_view_name": "LeafletTileLayerView",
      "attribution": "Google Earth Engine",
      "base": false,
      "bottom": true,
      "bounds": null,
      "detect_retina": false,
      "loading": false,
      "max_native_zoom": null,
      "max_zoom": 24,
      "min_native_zoom": null,
      "min_zoom": 0,
      "name": "deforestation",
      "no_wrap": false,
      "opacity": 1,
      "options": [
       "attribution",
       "bounds",
       "detect_retina",
       "max_native_zoom",
       "max_zoom",
       "min_native_zoom",
       "min_zoom",
       "no_wrap",
       "tile_size",
       "tms",
       "zoom_offset"
      ],
      "pane": "",
      "popup": null,
      "popup_max_height": null,
      "popup_max_width": 300,
      "popup_min_width": 50,
      "show_loading": false,
      "tile_size": 256,
      "tms": false,
      "url": "https://earthengine.googleapis.com/v1alpha/projects/earthengine-legacy/maps/bda599e01bdb5c6243e97150ef1a6774-8830a31c31cddd5d0c5392d9f991e33b/tiles/{z}/{x}/{y}",
      "visible": true,
      "zoom_offset": 0
     }
    },
    "ada570fd1d13408495f33c622f327106": {
     "model_module": "@jupyter-widgets/base",
     "model_module_version": "1.2.0",
     "model_name": "LayoutModel",
     "state": {
      "_model_module": "@jupyter-widgets/base",
      "_model_module_version": "1.2.0",
      "_model_name": "LayoutModel",
      "_view_count": null,
      "_view_module": "@jupyter-widgets/base",
      "_view_module_version": "1.2.0",
      "_view_name": "LayoutView",
      "align_content": null,
      "align_items": null,
      "align_self": null,
      "border": null,
      "bottom": null,
      "display": null,
      "flex": null,
      "flex_flow": null,
      "grid_area": null,
      "grid_auto_columns": null,
      "grid_auto_flow": null,
      "grid_auto_rows": null,
      "grid_column": null,
      "grid_gap": null,
      "grid_row": null,
      "grid_template_areas": null,
      "grid_template_columns": null,
      "grid_template_rows": null,
      "height": "28px",
      "justify_content": null,
      "justify_items": null,
      "left": null,
      "margin": null,
      "max_height": null,
      "max_width": null,
      "min_height": null,
      "min_width": null,
      "object_fit": null,
      "object_position": null,
      "order": null,
      "overflow": null,
      "overflow_x": null,
      "overflow_y": null,
      "padding": "0px 0px 0px 4px",
      "right": null,
      "top": null,
      "visibility": null,
      "width": "28px"
     }
    },
    "af76053422f44e1ebd320f493068c3d2": {
     "model_module": "jupyter-leaflet",
     "model_module_version": "^0.17",
     "model_name": "LeafletTileLayerModel",
     "state": {
      "_model_module": "jupyter-leaflet",
      "_model_module_version": "^0.17",
      "_model_name": "LeafletTileLayerModel",
      "_view_count": null,
      "_view_module": "jupyter-leaflet",
      "_view_module_version": "^0.17",
      "_view_name": "LeafletTileLayerView",
      "attribution": "Google Earth Engine",
      "base": false,
      "bottom": true,
      "bounds": null,
      "detect_retina": false,
      "loading": true,
      "max_native_zoom": null,
      "max_zoom": 18,
      "min_native_zoom": null,
      "min_zoom": 0,
      "name": "Drawn Features",
      "no_wrap": false,
      "opacity": 0.5,
      "options": [
       "attribution",
       "bounds",
       "detect_retina",
       "max_native_zoom",
       "max_zoom",
       "min_native_zoom",
       "min_zoom",
       "no_wrap",
       "tile_size",
       "tms",
       "zoom_offset"
      ],
      "pane": "",
      "popup": null,
      "popup_max_height": null,
      "popup_max_width": 300,
      "popup_min_width": 50,
      "show_loading": false,
      "tile_size": 256,
      "tms": false,
      "url": "https://earthengine.googleapis.com/v1alpha/projects/earthengine-legacy/maps/5387a696a824177ec17b6629d5c948f1-d1cfe21ab918bd55ea99145ef99c65ed/tiles/{z}/{x}/{y}",
      "visible": false,
      "zoom_offset": 0
     }
    },
    "b02e53b5aab54dfb80587ba1148c2708": {
     "model_module": "jupyter-leaflet",
     "model_module_version": "^0.17",
     "model_name": "LeafletTileLayerModel",
     "state": {
      "_model_module": "jupyter-leaflet",
      "_model_module_version": "^0.17",
      "_model_name": "LeafletTileLayerModel",
      "_view_count": null,
      "_view_module": "jupyter-leaflet",
      "_view_module_version": "^0.17",
      "_view_name": "LeafletTileLayerView",
      "attribution": "Google Earth Engine",
      "base": false,
      "bottom": true,
      "bounds": null,
      "detect_retina": false,
      "loading": true,
      "max_native_zoom": null,
      "max_zoom": 18,
      "min_native_zoom": null,
      "min_zoom": 0,
      "name": "Drawn Features",
      "no_wrap": false,
      "opacity": 0.5,
      "options": [
       "attribution",
       "bounds",
       "detect_retina",
       "max_native_zoom",
       "max_zoom",
       "min_native_zoom",
       "min_zoom",
       "no_wrap",
       "tile_size",
       "tms",
       "zoom_offset"
      ],
      "pane": "",
      "popup": null,
      "popup_max_height": null,
      "popup_max_width": 300,
      "popup_min_width": 50,
      "show_loading": false,
      "tile_size": 256,
      "tms": false,
      "url": "https://earthengine.googleapis.com/v1alpha/projects/earthengine-legacy/maps/509aa8b26e789ea6cd5301d2020cc21a-8d9eb9f88dcf6c443c78c11e20b6224e/tiles/{z}/{x}/{y}",
      "visible": false,
      "zoom_offset": 0
     }
    },
    "befe273fbaaf4753a75fdffd8eb50f3a": {
     "model_module": "@jupyter-widgets/controls",
     "model_module_version": "1.5.0",
     "model_name": "HTMLModel",
     "state": {
      "_dom_classes": [],
      "_model_module": "@jupyter-widgets/controls",
      "_model_module_version": "1.5.0",
      "_model_name": "HTMLModel",
      "_view_count": null,
      "_view_module": "@jupyter-widgets/controls",
      "_view_module_version": "1.5.0",
      "_view_name": "HTMLView",
      "description": "",
      "description_tooltip": null,
      "layout": "IPY_MODEL_82441b8b69d44263bb6c25109b2f1c75",
      "placeholder": "​",
      "style": "IPY_MODEL_4d96c0cc37a1488c8c767eb451b03e94",
      "value": "<html>\n<body>\n  <div class='my-legend'>\n  <div class='legend-title'>Legend</div>\n  <div class='legend-scale'>\n    <ul class='legend-labels'>\n      <li><span style='background:#d7191c;'></span>very low</li>\n      <li><span style='background:#fdae61;'></span>low</li>\n      <li><span style='background:#ffffbf;'></span>medium</li>\n      <li><span style='background:#a6d96a;'></span>high</li>\n      <li><span style='background:#1a9641;'></span>very high</li>\n    </ul>\n  </div>\n  </div>\n\n  <style type='text/css'>\n    .my-legend .legend-title {\n      text-align: left;\n      margin-bottom: 2px;\n      margin-left: 2px;\n      font-weight: bold;\n      font-size: 90%;\n      }\n    .my-legend .legend-scale ul {\n      margin: 0;\n      margin-bottom: 5px;\n      padding: 0;\n      float: left;\n      list-style: none;\n      }\n    .my-legend .legend-scale ul li {\n      font-size: 80%;\n      list-style: none;\n      margin-left: 1px;\n      line-height: 18px;\n      margin-bottom: 2px;\n      }\n    .my-legend ul.legend-labels li span {\n      display: block;\n      float: left;\n      height: 16px;\n      width: 30px;\n      margin-right: 5px;\n      margin-left: 2px;\n      border: 1px solid #999;\n      }\n    .my-legend .legend-source {\n      font-size: 70%;\n      color: #999;\n      clear: both;\n      }\n    .my-legend a {\n      color: #777;\n      }\n  </style>\n</body>\n</html>\n"
     }
    },
    "bfe7b4c5ff734cab940e48bbad3e9b0d": {
     "model_module": "@jupyter-widgets/controls",
     "model_module_version": "1.5.0",
     "model_name": "HBoxModel",
     "state": {
      "_dom_classes": [],
      "_model_module": "@jupyter-widgets/controls",
      "_model_module_version": "1.5.0",
      "_model_name": "HBoxModel",
      "_view_count": null,
      "_view_module": "@jupyter-widgets/controls",
      "_view_module_version": "1.5.0",
      "_view_name": "HBoxView",
      "box_style": "",
      "children": [
       "IPY_MODEL_076543847e94461fb891a2a761057068"
      ],
      "layout": "IPY_MODEL_57b4a9eb9e1a45f5878331251e133069"
     }
    },
    "cc819c4d513c464b9e7509504932be7f": {
     "model_module": "@jupyter-widgets/output",
     "model_module_version": "1.0.0",
     "model_name": "OutputModel",
     "state": {
      "_dom_classes": [],
      "_model_module": "@jupyter-widgets/output",
      "_model_module_version": "1.0.0",
      "_model_name": "OutputModel",
      "_view_count": null,
      "_view_module": "@jupyter-widgets/output",
      "_view_module_version": "1.0.0",
      "_view_name": "OutputView",
      "layout": "IPY_MODEL_50368147fb4a4bb8a6c534356d666f9a",
      "msg_id": "",
      "outputs": [
       {
        "data": {
         "application/vnd.jupyter.widget-view+json": {
          "model_id": "befe273fbaaf4753a75fdffd8eb50f3a",
          "version_major": 2,
          "version_minor": 0
         },
         "text/plain": "HTML(value=\"<html>\\n<body>\\n  <div class='my-legend'>\\n  <div class='legend-title'>Legend</div>\\n  <div class=…"
        },
        "metadata": {
         "application/vnd.jupyter.widget-view+json": {
          "colab": {
           "custom_widget_manager": {
            "url": "https://ssl.gstatic.com/colaboratory-static/widgets/colab-cdn-widget-manager/d2e234f7cc04bf79/manager.min.js"
           }
          }
         }
        },
        "output_type": "display_data"
       }
      ]
     }
    },
    "d2425128a3904e7983f91acb4933c403": {
     "model_module": "jupyter-leaflet",
     "model_module_version": "^0.17",
     "model_name": "LeafletTileLayerModel",
     "state": {
      "_model_module": "jupyter-leaflet",
      "_model_module_version": "^0.17",
      "_model_name": "LeafletTileLayerModel",
      "_view_count": null,
      "_view_module": "jupyter-leaflet",
      "_view_module_version": "^0.17",
      "_view_name": "LeafletTileLayerView",
      "attribution": "Google Earth Engine",
      "base": false,
      "bottom": true,
      "bounds": null,
      "detect_retina": false,
      "loading": true,
      "max_native_zoom": null,
      "max_zoom": 18,
      "min_native_zoom": null,
      "min_zoom": 0,
      "name": "Drawn Features",
      "no_wrap": false,
      "opacity": 0.5,
      "options": [
       "attribution",
       "bounds",
       "detect_retina",
       "max_native_zoom",
       "max_zoom",
       "min_native_zoom",
       "min_zoom",
       "no_wrap",
       "tile_size",
       "tms",
       "zoom_offset"
      ],
      "pane": "",
      "popup": null,
      "popup_max_height": null,
      "popup_max_width": 300,
      "popup_min_width": 50,
      "show_loading": false,
      "tile_size": 256,
      "tms": false,
      "url": "https://earthengine.googleapis.com/v1alpha/projects/earthengine-legacy/maps/483b67912ad26c45891b3554b76f5af9-416c57a947506d2f0828805edff2e366/tiles/{z}/{x}/{y}",
      "visible": false,
      "zoom_offset": 0
     }
    },
    "d51aa31aa35b42b4aac727911084f495": {
     "model_module": "@jupyter-widgets/controls",
     "model_module_version": "1.5.0",
     "model_name": "DescriptionStyleModel",
     "state": {
      "_model_module": "@jupyter-widgets/controls",
      "_model_module_version": "1.5.0",
      "_model_name": "DescriptionStyleModel",
      "_view_count": null,
      "_view_module": "@jupyter-widgets/base",
      "_view_module_version": "1.2.0",
      "_view_name": "StyleView",
      "description_width": ""
     }
    },
    "d5321594677446b597a88dfb8ee653c7": {
     "model_module": "jupyter-leaflet",
     "model_module_version": "^0.17",
     "model_name": "LeafletTileLayerModel",
     "state": {
      "_model_module": "jupyter-leaflet",
      "_model_module_version": "^0.17",
      "_model_name": "LeafletTileLayerModel",
      "_view_count": null,
      "_view_module": "jupyter-leaflet",
      "_view_module_version": "^0.17",
      "_view_name": "LeafletTileLayerView",
      "attribution": "Google Earth Engine",
      "base": false,
      "bottom": true,
      "bounds": null,
      "detect_retina": false,
      "loading": true,
      "max_native_zoom": null,
      "max_zoom": 18,
      "min_native_zoom": null,
      "min_zoom": 0,
      "name": "Drawn Features",
      "no_wrap": false,
      "opacity": 0.5,
      "options": [
       "attribution",
       "bounds",
       "detect_retina",
       "max_native_zoom",
       "max_zoom",
       "min_native_zoom",
       "min_zoom",
       "no_wrap",
       "tile_size",
       "tms",
       "zoom_offset"
      ],
      "pane": "",
      "popup": null,
      "popup_max_height": null,
      "popup_max_width": 300,
      "popup_min_width": 50,
      "show_loading": false,
      "tile_size": 256,
      "tms": false,
      "url": "https://earthengine.googleapis.com/v1alpha/projects/earthengine-legacy/maps/ab95b8ada29e0e4ac6fd4b7471abfd8a-8ef05b075075ec97036313d1d1667117/tiles/{z}/{x}/{y}",
      "visible": false,
      "zoom_offset": 0
     }
    },
    "dc170b7aff44459eac0c11bb45d5d7d3": {
     "model_module": "jupyter-leaflet",
     "model_module_version": "^0.17",
     "model_name": "LeafletTileLayerModel",
     "state": {
      "_model_module": "jupyter-leaflet",
      "_model_module_version": "^0.17",
      "_model_name": "LeafletTileLayerModel",
      "_view_count": null,
      "_view_module": "jupyter-leaflet",
      "_view_module_version": "^0.17",
      "_view_name": "LeafletTileLayerView",
      "attribution": "Google Earth Engine",
      "base": false,
      "bottom": true,
      "bounds": null,
      "detect_retina": false,
      "loading": false,
      "max_native_zoom": null,
      "max_zoom": 18,
      "min_native_zoom": null,
      "min_zoom": 0,
      "name": "Drawn Features",
      "no_wrap": false,
      "opacity": 0.5,
      "options": [
       "attribution",
       "bounds",
       "detect_retina",
       "max_native_zoom",
       "max_zoom",
       "min_native_zoom",
       "min_zoom",
       "no_wrap",
       "tile_size",
       "tms",
       "zoom_offset"
      ],
      "pane": "",
      "popup": null,
      "popup_max_height": null,
      "popup_max_width": 300,
      "popup_min_width": 50,
      "show_loading": false,
      "tile_size": 256,
      "tms": false,
      "url": "https://earthengine.googleapis.com/v1alpha/projects/earthengine-legacy/maps/5fe5df4f35e3cc35392336505e393850-b15170a65faf224ff523874bbe61f860/tiles/{z}/{x}/{y}",
      "visible": false,
      "zoom_offset": 0
     }
    },
    "e073295f879442fcbb1ec0ec18ea3adb": {
     "model_module": "jupyter-leaflet",
     "model_module_version": "^0.17",
     "model_name": "LeafletDrawControlModel",
     "state": {
      "_model_module": "jupyter-leaflet",
      "_model_module_version": "^0.17",
      "_model_name": "LeafletDrawControlModel",
      "_view_count": null,
      "_view_module": "jupyter-leaflet",
      "_view_module_version": "^0.17",
      "_view_name": "LeafletDrawControlView",
      "circle": {
       "shapeOptions": {
        "color": "#3388ff"
       }
      },
      "circlemarker": {},
      "data": [
       {
        "geometry": {
         "coordinates": [
          [
           [
            -122.344456,
            39.37676
           ],
           [
            -122.344456,
            39.42027
           ],
           [
            -122.308753,
            39.42027
           ],
           [
            -122.308753,
            39.37676
           ],
           [
            -122.344456,
            39.37676
           ]
          ]
         ],
         "type": "Polygon"
        },
        "properties": {
         "style": {
          "attribution": null,
          "bubblingMouseEvents": true,
          "clickable": true,
          "color": "#3388ff",
          "dashArray": null,
          "dashOffset": null,
          "fill": true,
          "fillColor": null,
          "fillOpacity": 0.2,
          "fillRule": "evenodd",
          "interactive": true,
          "lineCap": "round",
          "lineJoin": "round",
          "noClip": false,
          "opacity": 0.5,
          "pane": "overlayPane",
          "smoothFactor": 1,
          "stroke": true,
          "weight": 4
         }
        },
        "type": "Feature"
       },
       {
        "geometry": {
         "coordinates": [
          [
           [
            -122.738916,
            39.769486
           ],
           [
            -122.738916,
            39.786373
           ],
           [
            -122.720721,
            39.786373
           ],
           [
            -122.720721,
            39.769486
           ],
           [
            -122.738916,
            39.769486
           ]
          ]
         ],
         "type": "Polygon"
        },
        "properties": {
         "style": {
          "attribution": null,
          "bubblingMouseEvents": true,
          "clickable": true,
          "color": "#3388ff",
          "dashArray": null,
          "dashOffset": null,
          "fill": true,
          "fillColor": null,
          "fillOpacity": 0.2,
          "fillRule": "evenodd",
          "interactive": true,
          "lineCap": "round",
          "lineJoin": "round",
          "noClip": false,
          "opacity": 0.5,
          "pane": "overlayPane",
          "smoothFactor": 1,
          "stroke": true,
          "weight": 4
         }
        },
        "type": "Feature"
       },
       {
        "geometry": {
         "coordinates": [
          [
           [
            -122.360063,
            39.796004
           ],
           [
            -122.360063,
            39.807874
           ],
           [
            -122.344272,
            39.807874
           ],
           [
            -122.344272,
            39.796004
           ],
           [
            -122.360063,
            39.796004
           ]
          ]
         ],
         "type": "Polygon"
        },
        "properties": {
         "style": {
          "attribution": null,
          "bubblingMouseEvents": true,
          "clickable": true,
          "color": "#3388ff",
          "dashArray": null,
          "dashOffset": null,
          "fill": true,
          "fillColor": null,
          "fillOpacity": 0.2,
          "fillRule": "evenodd",
          "interactive": true,
          "lineCap": "round",
          "lineJoin": "round",
          "noClip": false,
          "opacity": 0.5,
          "pane": "overlayPane",
          "smoothFactor": 1,
          "stroke": true,
          "weight": 4
         }
        },
        "type": "Feature"
       },
       {
        "geometry": {
         "coordinates": [
          [
           [
            -121.964085,
            39.937107
           ],
           [
            -121.964085,
            39.950794
           ],
           [
            -121.944174,
            39.950794
           ],
           [
            -121.944174,
            39.937107
           ],
           [
            -121.964085,
            39.937107
           ]
          ]
         ],
         "type": "Polygon"
        },
        "properties": {
         "style": {
          "attribution": null,
          "bubblingMouseEvents": true,
          "clickable": true,
          "color": "#3388ff",
          "dashArray": null,
          "dashOffset": null,
          "fill": true,
          "fillColor": null,
          "fillOpacity": 0.2,
          "fillRule": "evenodd",
          "interactive": true,
          "lineCap": "round",
          "lineJoin": "round",
          "noClip": false,
          "opacity": 0.5,
          "pane": "overlayPane",
          "smoothFactor": 1,
          "stroke": true,
          "weight": 4
         }
        },
        "type": "Feature"
       },
       {
        "geometry": {
         "coordinates": [
          [
           [
            -122.248313,
            40.112473
           ],
           [
            -122.248313,
            40.121794
           ],
           [
            -122.236297,
            40.121794
           ],
           [
            -122.236297,
            40.112473
           ],
           [
            -122.248313,
            40.112473
           ]
          ]
         ],
         "type": "Polygon"
        },
        "properties": {
         "style": {
          "attribution": null,
          "bubblingMouseEvents": true,
          "clickable": true,
          "color": "#3388ff",
          "dashArray": null,
          "dashOffset": null,
          "fill": true,
          "fillColor": null,
          "fillOpacity": 0.2,
          "fillRule": "evenodd",
          "interactive": true,
          "lineCap": "round",
          "lineJoin": "round",
          "noClip": false,
          "opacity": 0.5,
          "pane": "overlayPane",
          "smoothFactor": 1,
          "stroke": true,
          "weight": 4
         }
        },
        "type": "Feature"
       },
       {
        "geometry": {
         "coordinates": [
          [
           [
            -122.26788,
            40.532583
           ],
           [
            -122.26788,
            40.546673
           ],
           [
            -122.251402,
            40.546673
           ],
           [
            -122.251402,
            40.532583
           ],
           [
            -122.26788,
            40.532583
           ]
          ]
         ],
         "type": "Polygon"
        },
        "properties": {
         "style": {
          "attribution": null,
          "bubblingMouseEvents": true,
          "clickable": true,
          "color": "#3388ff",
          "dashArray": null,
          "dashOffset": null,
          "fill": true,
          "fillColor": null,
          "fillOpacity": 0.2,
          "fillRule": "evenodd",
          "interactive": true,
          "lineCap": "round",
          "lineJoin": "round",
          "noClip": false,
          "opacity": 0.5,
          "pane": "overlayPane",
          "smoothFactor": 1,
          "stroke": true,
          "weight": 4
         }
        },
        "type": "Feature"
       },
       {
        "geometry": {
         "coordinates": [
          [
           [
            -122.178279,
            40.514054
           ],
           [
            -122.178279,
            40.522145
           ],
           [
            -122.166607,
            40.522145
           ],
           [
            -122.166607,
            40.514054
           ],
           [
            -122.178279,
            40.514054
           ]
          ]
         ],
         "type": "Polygon"
        },
        "properties": {
         "style": {
          "attribution": null,
          "bubblingMouseEvents": true,
          "clickable": true,
          "color": "#3388ff",
          "dashArray": null,
          "dashOffset": null,
          "fill": true,
          "fillColor": null,
          "fillOpacity": 0.2,
          "fillRule": "evenodd",
          "interactive": true,
          "lineCap": "round",
          "lineJoin": "round",
          "noClip": false,
          "opacity": 0.5,
          "pane": "overlayPane",
          "smoothFactor": 1,
          "stroke": true,
          "weight": 4
         }
        },
        "type": "Feature"
       },
       {
        "geometry": {
         "coordinates": [
          [
           [
            -122.385293,
            40.776249
           ],
           [
            -122.385293,
            40.783658
           ],
           [
            -122.377054,
            40.783658
           ],
           [
            -122.377054,
            40.776249
           ],
           [
            -122.385293,
            40.776249
           ]
          ]
         ],
         "type": "Polygon"
        },
        "properties": {
         "style": {
          "attribution": null,
          "bubblingMouseEvents": true,
          "clickable": true,
          "color": "#3388ff",
          "dashArray": null,
          "dashOffset": null,
          "fill": true,
          "fillColor": null,
          "fillOpacity": 0.2,
          "fillRule": "evenodd",
          "interactive": true,
          "lineCap": "round",
          "lineJoin": "round",
          "noClip": false,
          "opacity": 0.5,
          "pane": "overlayPane",
          "smoothFactor": 1,
          "stroke": true,
          "weight": 4
         }
        },
        "type": "Feature"
       },
       {
        "geometry": {
         "coordinates": [
          [
           [
            -122.501168,
            41.016819
           ],
           [
            -122.501168,
            41.024978
           ],
           [
            -122.486235,
            41.024978
           ],
           [
            -122.486235,
            41.016819
           ],
           [
            -122.501168,
            41.016819
           ]
          ]
         ],
         "type": "Polygon"
        },
        "properties": {
         "style": {
          "clickable": true,
          "color": "#3388ff",
          "fill": true,
          "fillColor": null,
          "fillOpacity": 0.2,
          "opacity": 0.5,
          "stroke": true,
          "weight": 4
         }
        },
        "type": "Feature"
       }
      ],
      "edit": true,
      "marker": {
       "shapeOptions": {
        "color": "#3388ff"
       }
      },
      "options": [
       "position"
      ],
      "polygon": {
       "shapeOptions": {}
      },
      "polyline": {
       "shapeOptions": {}
      },
      "position": "topleft",
      "rectangle": {
       "shapeOptions": {
        "color": "#3388ff"
       }
      },
      "remove": true
     }
    },
    "ecd3e247c81e4279b5d639ae33078bf1": {
     "model_module": "jupyter-leaflet",
     "model_module_version": "^0.17",
     "model_name": "LeafletTileLayerModel",
     "state": {
      "_model_module": "jupyter-leaflet",
      "_model_module_version": "^0.17",
      "_model_name": "LeafletTileLayerModel",
      "_view_count": null,
      "_view_module": "jupyter-leaflet",
      "_view_module_version": "^0.17",
      "_view_name": "LeafletTileLayerView",
      "attribution": "Google Earth Engine",
      "base": false,
      "bottom": true,
      "bounds": null,
      "detect_retina": false,
      "loading": false,
      "max_native_zoom": null,
      "max_zoom": 24,
      "min_native_zoom": null,
      "min_zoom": 0,
      "name": "Postfire",
      "no_wrap": false,
      "opacity": 1,
      "options": [
       "attribution",
       "bounds",
       "detect_retina",
       "max_native_zoom",
       "max_zoom",
       "min_native_zoom",
       "min_zoom",
       "no_wrap",
       "tile_size",
       "tms",
       "zoom_offset"
      ],
      "pane": "",
      "popup": null,
      "popup_max_height": null,
      "popup_max_width": 300,
      "popup_min_width": 50,
      "show_loading": false,
      "tile_size": 256,
      "tms": false,
      "url": "https://earthengine.googleapis.com/v1alpha/projects/earthengine-legacy/maps/606c91182d58a0839c281b5ff37671b0-84ef64bacf9c4811092a46902942881d/tiles/{z}/{x}/{y}",
      "visible": true,
      "zoom_offset": 0
     }
    },
    "efb5c13ce7a546b3a8de0fa82b4e2856": {
     "model_module": "jupyter-leaflet",
     "model_module_version": "^0.17",
     "model_name": "LeafletWidgetControlModel",
     "state": {
      "_model_module": "jupyter-leaflet",
      "_model_module_version": "^0.17",
      "_model_name": "LeafletWidgetControlModel",
      "_view_count": null,
      "_view_module": "jupyter-leaflet",
      "_view_module_version": "^0.17",
      "_view_name": "LeafletWidgetControlView",
      "max_height": null,
      "max_width": null,
      "min_height": null,
      "min_width": null,
      "options": [
       "position",
       "transparent_bg"
      ],
      "position": "topright",
      "transparent_bg": false,
      "widget": "IPY_MODEL_1b39cf7e0bd04c41bd1552bcafab8e99"
     }
    },
    "f5b55253837f406694be2d41035db761": {
     "model_module": "jupyter-leaflet",
     "model_module_version": "^0.17",
     "model_name": "LeafletTileLayerModel",
     "state": {
      "_model_module": "jupyter-leaflet",
      "_model_module_version": "^0.17",
      "_model_name": "LeafletTileLayerModel",
      "_view_count": null,
      "_view_module": "jupyter-leaflet",
      "_view_module_version": "^0.17",
      "_view_name": "LeafletTileLayerView",
      "attribution": "Google Earth Engine",
      "base": false,
      "bottom": true,
      "bounds": null,
      "detect_retina": false,
      "loading": true,
      "max_native_zoom": null,
      "max_zoom": 18,
      "min_native_zoom": null,
      "min_zoom": 0,
      "name": "Drawn Features",
      "no_wrap": false,
      "opacity": 0.5,
      "options": [
       "attribution",
       "bounds",
       "detect_retina",
       "max_native_zoom",
       "max_zoom",
       "min_native_zoom",
       "min_zoom",
       "no_wrap",
       "tile_size",
       "tms",
       "zoom_offset"
      ],
      "pane": "",
      "popup": null,
      "popup_max_height": null,
      "popup_max_width": 300,
      "popup_min_width": 50,
      "show_loading": false,
      "tile_size": 256,
      "tms": false,
      "url": "https://earthengine.googleapis.com/v1alpha/projects/earthengine-legacy/maps/467753f0bb83776bb4674c9f59fc5280-23961984a4b41be2c76a515bb5b629c9/tiles/{z}/{x}/{y}",
      "visible": false,
      "zoom_offset": 0
     }
    },
    "f5d35cc27b214beb92a3be3440a0a348": {
     "model_module": "jupyter-leaflet",
     "model_module_version": "^0.17",
     "model_name": "LeafletTileLayerModel",
     "state": {
      "_model_module": "jupyter-leaflet",
      "_model_module_version": "^0.17",
      "_model_name": "LeafletTileLayerModel",
      "_view_count": null,
      "_view_module": "jupyter-leaflet",
      "_view_module_version": "^0.17",
      "_view_name": "LeafletTileLayerView",
      "attribution": "Google Earth Engine",
      "base": false,
      "bottom": true,
      "bounds": null,
      "detect_retina": false,
      "loading": false,
      "max_native_zoom": null,
      "max_zoom": 24,
      "min_native_zoom": null,
      "min_zoom": 0,
      "name": "post NDVI",
      "no_wrap": false,
      "opacity": 1,
      "options": [
       "attribution",
       "bounds",
       "detect_retina",
       "max_native_zoom",
       "max_zoom",
       "min_native_zoom",
       "min_zoom",
       "no_wrap",
       "tile_size",
       "tms",
       "zoom_offset"
      ],
      "pane": "",
      "popup": null,
      "popup_max_height": null,
      "popup_max_width": 300,
      "popup_min_width": 50,
      "show_loading": false,
      "tile_size": 256,
      "tms": false,
      "url": "https://earthengine.googleapis.com/v1alpha/projects/earthengine-legacy/maps/67b9efa8fa681bbe1c3d1aa4bde482bb-735fde8b8d122af352394d43fdca22b9/tiles/{z}/{x}/{y}",
      "visible": true,
      "zoom_offset": 0
     }
    },
    "f6a54a6f7ce1432abe985ccdca5d0774": {
     "model_module": "jupyter-leaflet",
     "model_module_version": "^0.17",
     "model_name": "LeafletTileLayerModel",
     "state": {
      "_model_module": "jupyter-leaflet",
      "_model_module_version": "^0.17",
      "_model_name": "LeafletTileLayerModel",
      "_view_count": null,
      "_view_module": "jupyter-leaflet",
      "_view_module_version": "^0.17",
      "_view_name": "LeafletTileLayerView",
      "attribution": "Google Earth Engine",
      "base": false,
      "bottom": true,
      "bounds": null,
      "detect_retina": false,
      "loading": false,
      "max_native_zoom": null,
      "max_zoom": 24,
      "min_native_zoom": null,
      "min_zoom": 0,
      "name": "forest_1",
      "no_wrap": false,
      "opacity": 1,
      "options": [
       "attribution",
       "bounds",
       "detect_retina",
       "max_native_zoom",
       "max_zoom",
       "min_native_zoom",
       "min_zoom",
       "no_wrap",
       "tile_size",
       "tms",
       "zoom_offset"
      ],
      "pane": "",
      "popup": null,
      "popup_max_height": null,
      "popup_max_width": 300,
      "popup_min_width": 50,
      "show_loading": false,
      "tile_size": 256,
      "tms": false,
      "url": "https://earthengine.googleapis.com/v1alpha/projects/earthengine-legacy/maps/be79d9f1ead5072fd4a740d6f9cc265d-e61d5fd007483203e1610e76025e690e/tiles/{z}/{x}/{y}",
      "visible": true,
      "zoom_offset": 0
     }
    },
    "fc5d4dd9987c420b9560f060466354d2": {
     "model_module": "jupyter-leaflet",
     "model_module_version": "^0.17",
     "model_name": "LeafletTileLayerModel",
     "state": {
      "_model_module": "jupyter-leaflet",
      "_model_module_version": "^0.17",
      "_model_name": "LeafletTileLayerModel",
      "_view_count": null,
      "_view_module": "jupyter-leaflet",
      "_view_module_version": "^0.17",
      "_view_name": "LeafletTileLayerView",
      "attribution": "Google Earth Engine",
      "base": false,
      "bottom": true,
      "bounds": null,
      "detect_retina": false,
      "loading": true,
      "max_native_zoom": null,
      "max_zoom": 18,
      "min_native_zoom": null,
      "min_zoom": 0,
      "name": "Drawn Features",
      "no_wrap": false,
      "opacity": 0.5,
      "options": [
       "attribution",
       "bounds",
       "detect_retina",
       "max_native_zoom",
       "max_zoom",
       "min_native_zoom",
       "min_zoom",
       "no_wrap",
       "tile_size",
       "tms",
       "zoom_offset"
      ],
      "pane": "",
      "popup": null,
      "popup_max_height": null,
      "popup_max_width": 300,
      "popup_min_width": 50,
      "show_loading": false,
      "tile_size": 256,
      "tms": false,
      "url": "https://earthengine.googleapis.com/v1alpha/projects/earthengine-legacy/maps/44158140ed6174163307fb189693ebc0-bf35f77abb4a7e4665e00f0bd21ddad4/tiles/{z}/{x}/{y}",
      "visible": false,
      "zoom_offset": 0
     }
    }
   }
  }
 },
 "nbformat": 4,
 "nbformat_minor": 1
}
